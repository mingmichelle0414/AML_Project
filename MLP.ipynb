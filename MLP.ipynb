{
  "cells": [
    {
      "cell_type": "code",
      "execution_count": 1096,
      "metadata": {
        "id": "li3b7qcGtJCK"
      },
      "outputs": [],
      "source": [
        "import torch\n",
        "import torch.nn as nn\n",
        "import torch.nn.functional as F\n",
        "from torch.utils.data import DataLoader, TensorDataset\n",
        "import torch.optim as optim\n",
        "from sklearn.metrics import r2_score\n",
        "from tqdm import tqdm\n",
        "import pandas as pd\n",
        "import os\n",
        "import matplotlib.pyplot as plt\n",
        "import numpy as np\n"
      ]
    },
    {
      "cell_type": "markdown",
      "metadata": {},
      "source": [
        "## Import Data"
      ]
    },
    {
      "cell_type": "code",
      "execution_count": 1097,
      "metadata": {},
      "outputs": [],
      "source": [
        "os.chdir(\"C:/Users/luisb/OneDrive/Documents/UT_ORIE/fall23/Applied_ML/project\")\n",
        "#Test Data\n",
        "test_data = pd.read_csv('data/test_dataset_top.csv')\n",
        "test_data.drop(test_data.columns[0], axis=1, inplace=True)  #drop unnamed column, first col. in dataset\n",
        "test_data.dropna(inplace=True)    #drop rows with null values\n",
        "test_data.drop(test_data[(test_data['RET']>1) | (test_data['RET']<-1)].index, inplace=True)  #drop extreme outliers\n",
        "output = test_data[['permno','DATE','RET']]  #df to concat results to\n",
        "test_data.drop(columns=['DATE','permno'], inplace=True)  #drop date and stock ticker columns, not needed for training\n",
        "\n",
        "#Train Data\n",
        "train_data = pd.read_csv('data/train_dataset_top.csv', index_col=None)\n",
        "train_data.drop(train_data.columns[0], axis=1, inplace=True)\n",
        "train_data.dropna(inplace=True)   #drop rows with null values\n",
        "train_data.drop(train_data[(train_data['RET']>1) | (train_data['RET']<-1)].index, inplace=True)\n",
        "train_data.drop(columns=['DATE','permno'], inplace=True) #drop date and stock ticker columns, not needed for training\n",
        "\n",
        "#Validation Data\n",
        "val_data = pd.read_csv('data/val_dataset_top.csv')\n",
        "val_data.drop(val_data.columns[0], axis=1, inplace=True)\n",
        "val_data.dropna(inplace=True)    #drop rows with null values\n",
        "val_data.drop(val_data[(val_data['RET']>1) | (val_data['RET']<-1)].index, inplace=True)\n",
        "val_data.drop(columns=['DATE','permno'], inplace=True) #drop date and stock ticker columns, not needed for training\n",
        "\n"
      ]
    },
    {
      "cell_type": "code",
      "execution_count": 1098,
      "metadata": {},
      "outputs": [
        {
          "data": {
            "text/html": [
              "<div>\n",
              "<style scoped>\n",
              "    .dataframe tbody tr th:only-of-type {\n",
              "        vertical-align: middle;\n",
              "    }\n",
              "\n",
              "    .dataframe tbody tr th {\n",
              "        vertical-align: top;\n",
              "    }\n",
              "\n",
              "    .dataframe thead th {\n",
              "        text-align: right;\n",
              "    }\n",
              "</style>\n",
              "<table border=\"1\" class=\"dataframe\">\n",
              "  <thead>\n",
              "    <tr style=\"text-align: right;\">\n",
              "      <th></th>\n",
              "      <th>mvel1</th>\n",
              "      <th>beta</th>\n",
              "      <th>betasq</th>\n",
              "      <th>chmom</th>\n",
              "      <th>dolvol</th>\n",
              "      <th>idiovol</th>\n",
              "      <th>indmom</th>\n",
              "      <th>mom1m</th>\n",
              "      <th>mom6m</th>\n",
              "      <th>mom12m</th>\n",
              "      <th>...</th>\n",
              "      <th>invest*dfy</th>\n",
              "      <th>invest*svar</th>\n",
              "      <th>absacc*dp_sp</th>\n",
              "      <th>absacc*ep_sp</th>\n",
              "      <th>absacc*bm_sp</th>\n",
              "      <th>absacc*ntis</th>\n",
              "      <th>absacc*tbl</th>\n",
              "      <th>absacc*tms</th>\n",
              "      <th>absacc*dfy</th>\n",
              "      <th>absacc*svar</th>\n",
              "    </tr>\n",
              "  </thead>\n",
              "  <tbody>\n",
              "    <tr>\n",
              "      <th>0</th>\n",
              "      <td>1.000000</td>\n",
              "      <td>-0.392488</td>\n",
              "      <td>-0.843512</td>\n",
              "      <td>0.319507</td>\n",
              "      <td>0.968018</td>\n",
              "      <td>-0.718208</td>\n",
              "      <td>-0.604590</td>\n",
              "      <td>-0.119343</td>\n",
              "      <td>-0.438897</td>\n",
              "      <td>-0.687399</td>\n",
              "      <td>...</td>\n",
              "      <td>-0.365988</td>\n",
              "      <td>-0.374302</td>\n",
              "      <td>-0.754788</td>\n",
              "      <td>-0.816891</td>\n",
              "      <td>-0.810511</td>\n",
              "      <td>-0.285030</td>\n",
              "      <td>-0.969760</td>\n",
              "      <td>-0.831976</td>\n",
              "      <td>-0.819573</td>\n",
              "      <td>-0.974298</td>\n",
              "    </tr>\n",
              "    <tr>\n",
              "      <th>1</th>\n",
              "      <td>0.993421</td>\n",
              "      <td>-0.373529</td>\n",
              "      <td>-0.832350</td>\n",
              "      <td>0.346878</td>\n",
              "      <td>0.971090</td>\n",
              "      <td>-0.711564</td>\n",
              "      <td>-0.659332</td>\n",
              "      <td>-0.020089</td>\n",
              "      <td>-0.374176</td>\n",
              "      <td>-0.641790</td>\n",
              "      <td>...</td>\n",
              "      <td>-0.379144</td>\n",
              "      <td>-0.372207</td>\n",
              "      <td>-0.774483</td>\n",
              "      <td>-0.819861</td>\n",
              "      <td>-0.822897</td>\n",
              "      <td>-0.271672</td>\n",
              "      <td>-0.957228</td>\n",
              "      <td>-0.872915</td>\n",
              "      <td>-0.837108</td>\n",
              "      <td>-0.960373</td>\n",
              "    </tr>\n",
              "    <tr>\n",
              "      <th>2</th>\n",
              "      <td>0.930708</td>\n",
              "      <td>-0.359465</td>\n",
              "      <td>-0.823821</td>\n",
              "      <td>0.354844</td>\n",
              "      <td>0.965641</td>\n",
              "      <td>-0.717428</td>\n",
              "      <td>-0.627439</td>\n",
              "      <td>-0.256641</td>\n",
              "      <td>-0.277002</td>\n",
              "      <td>-0.610022</td>\n",
              "      <td>...</td>\n",
              "      <td>-0.364658</td>\n",
              "      <td>-0.377033</td>\n",
              "      <td>-0.761046</td>\n",
              "      <td>-0.813335</td>\n",
              "      <td>-0.812858</td>\n",
              "      <td>-0.275138</td>\n",
              "      <td>-0.969760</td>\n",
              "      <td>-0.853350</td>\n",
              "      <td>-0.815734</td>\n",
              "      <td>-0.985970</td>\n",
              "    </tr>\n",
              "    <tr>\n",
              "      <th>3</th>\n",
              "      <td>0.921025</td>\n",
              "      <td>-0.351181</td>\n",
              "      <td>-0.818698</td>\n",
              "      <td>0.343828</td>\n",
              "      <td>0.974312</td>\n",
              "      <td>-0.720239</td>\n",
              "      <td>-0.596675</td>\n",
              "      <td>-0.189967</td>\n",
              "      <td>-0.364706</td>\n",
              "      <td>-0.661673</td>\n",
              "      <td>...</td>\n",
              "      <td>-0.367983</td>\n",
              "      <td>-0.375246</td>\n",
              "      <td>-0.761733</td>\n",
              "      <td>-0.818006</td>\n",
              "      <td>-0.814626</td>\n",
              "      <td>-0.281153</td>\n",
              "      <td>-0.969760</td>\n",
              "      <td>-0.845632</td>\n",
              "      <td>-0.825331</td>\n",
              "      <td>-0.978333</td>\n",
              "    </tr>\n",
              "    <tr>\n",
              "      <th>4</th>\n",
              "      <td>0.906199</td>\n",
              "      <td>-0.377502</td>\n",
              "      <td>-0.834720</td>\n",
              "      <td>0.362267</td>\n",
              "      <td>0.956196</td>\n",
              "      <td>-0.719959</td>\n",
              "      <td>-0.620920</td>\n",
              "      <td>-0.267217</td>\n",
              "      <td>-0.344581</td>\n",
              "      <td>-0.681327</td>\n",
              "      <td>...</td>\n",
              "      <td>-0.358673</td>\n",
              "      <td>-0.373687</td>\n",
              "      <td>-0.758060</td>\n",
              "      <td>-0.823116</td>\n",
              "      <td>-0.811265</td>\n",
              "      <td>-0.284888</td>\n",
              "      <td>-0.954640</td>\n",
              "      <td>-0.845632</td>\n",
              "      <td>-0.798459</td>\n",
              "      <td>-0.971669</td>\n",
              "    </tr>\n",
              "  </tbody>\n",
              "</table>\n",
              "<p>5 rows × 912 columns</p>\n",
              "</div>"
            ],
            "text/plain": [
              "      mvel1      beta    betasq     chmom    dolvol   idiovol    indmom  \\\n",
              "0  1.000000 -0.392488 -0.843512  0.319507  0.968018 -0.718208 -0.604590   \n",
              "1  0.993421 -0.373529 -0.832350  0.346878  0.971090 -0.711564 -0.659332   \n",
              "2  0.930708 -0.359465 -0.823821  0.354844  0.965641 -0.717428 -0.627439   \n",
              "3  0.921025 -0.351181 -0.818698  0.343828  0.974312 -0.720239 -0.596675   \n",
              "4  0.906199 -0.377502 -0.834720  0.362267  0.956196 -0.719959 -0.620920   \n",
              "\n",
              "      mom1m     mom6m    mom12m  ...  invest*dfy  invest*svar  absacc*dp_sp  \\\n",
              "0 -0.119343 -0.438897 -0.687399  ...   -0.365988    -0.374302     -0.754788   \n",
              "1 -0.020089 -0.374176 -0.641790  ...   -0.379144    -0.372207     -0.774483   \n",
              "2 -0.256641 -0.277002 -0.610022  ...   -0.364658    -0.377033     -0.761046   \n",
              "3 -0.189967 -0.364706 -0.661673  ...   -0.367983    -0.375246     -0.761733   \n",
              "4 -0.267217 -0.344581 -0.681327  ...   -0.358673    -0.373687     -0.758060   \n",
              "\n",
              "   absacc*ep_sp  absacc*bm_sp  absacc*ntis  absacc*tbl  absacc*tms  \\\n",
              "0     -0.816891     -0.810511    -0.285030   -0.969760   -0.831976   \n",
              "1     -0.819861     -0.822897    -0.271672   -0.957228   -0.872915   \n",
              "2     -0.813335     -0.812858    -0.275138   -0.969760   -0.853350   \n",
              "3     -0.818006     -0.814626    -0.281153   -0.969760   -0.845632   \n",
              "4     -0.823116     -0.811265    -0.284888   -0.954640   -0.845632   \n",
              "\n",
              "   absacc*dfy  absacc*svar  \n",
              "0   -0.819573    -0.974298  \n",
              "1   -0.837108    -0.960373  \n",
              "2   -0.815734    -0.985970  \n",
              "3   -0.825331    -0.978333  \n",
              "4   -0.798459    -0.971669  \n",
              "\n",
              "[5 rows x 912 columns]"
            ]
          },
          "execution_count": 1098,
          "metadata": {},
          "output_type": "execute_result"
        }
      ],
      "source": [
        "train_data.head() "
      ]
    },
    {
      "cell_type": "code",
      "execution_count": 1099,
      "metadata": {},
      "outputs": [],
      "source": [
        "#Prepare data\n",
        "X_train_tensor = torch.tensor(train_data.drop(columns=['RET']).values, dtype=torch.float32)\n",
        "y_train_tensor = torch.tensor(train_data['RET'].values, dtype=torch.float32)\n",
        "\n",
        "X_test_tensor = torch.tensor(test_data.drop(columns=['RET']).values, dtype=torch.float32)\n",
        "y_test_tensor = torch.tensor(test_data['RET'].values, dtype=torch.float32)\n",
        "\n",
        "X_val_tensor = torch.tensor(val_data.drop(columns=['RET']).values, dtype=torch.float32)\n",
        "y_val_tensor = torch.tensor(val_data['RET'].values, dtype=torch.float32)\n",
        "\n",
        "train_dataset = TensorDataset(X_train_tensor, y_train_tensor)\n",
        "test_dataset = TensorDataset(X_test_tensor, y_test_tensor)\n",
        "val_dataset = TensorDataset(X_val_tensor, y_val_tensor)\n",
        "\n",
        "\n",
        "batch_size = 64\n",
        "train_loader = DataLoader(train_dataset, batch_size=batch_size, shuffle=True)\n",
        "test_loader = DataLoader(test_dataset, batch_size=batch_size, shuffle=False)\n",
        "val_loader = DataLoader(val_dataset, batch_size=batch_size, shuffle=False)\n"
      ]
    },
    {
      "cell_type": "code",
      "execution_count": 1100,
      "metadata": {},
      "outputs": [
        {
          "name": "stdout",
          "output_type": "stream",
          "text": [
            "911\n"
          ]
        }
      ],
      "source": [
        "number_of_features = train_dataset[0][0].shape[0]\n",
        "print(number_of_features)\n",
        "\n",
        "#Loss function, for all three models\n",
        "criterion = nn.MSELoss()  # MSE Loss.   (This one is more sensitive to outliers)\n",
        "#criterion = nn.L1Loss()    #MAE Loss."
      ]
    },
    {
      "cell_type": "markdown",
      "metadata": {},
      "source": [
        "## MLP with 1 hidden layer"
      ]
    },
    {
      "cell_type": "code",
      "execution_count": 1101,
      "metadata": {},
      "outputs": [],
      "source": [
        "#MLP with 1 hidden layer\n",
        "class MLP1(nn.Module):\n",
        "    def __init__(self, input_size, hidden_size1, output_size):\n",
        "        super(MLP1, self).__init__()\n",
        "\n",
        "        #Create fully connected layers\n",
        "        self.fc1 = nn.Linear(input_size, hidden_size1)\n",
        "        self.fc2 = nn.Linear(hidden_size1, output_size)\n",
        "\n",
        "        #Batch Normalization\n",
        "        #self.bn1 = nn.BatchNorm1d(hidden_size1)\n",
        "\n",
        "\n",
        "    def forward(self, x):\n",
        "        x = x.view(-1, number_of_features)\n",
        "        #x = F.leaky_relu_(self.fc1(x), negative_slope=0.1)\n",
        "        x = F.relu(self.fc1(x))\n",
        "\n",
        "        #x = torch.sigmoid(self.fc2(x)) - 0.5\n",
        "        x = torch.tanh(self.fc2(x))\n",
        "        #x = self.fc2(x)\n",
        "        return x"
      ]
    },
    {
      "cell_type": "code",
      "execution_count": 1102,
      "metadata": {},
      "outputs": [
        {
          "name": "stdout",
          "output_type": "stream",
          "text": [
            "Input Size: 911\n"
          ]
        }
      ],
      "source": [
        "# Adjust input_size based on the number of features in your input data\n",
        "input_size = number_of_features\n",
        "print(f'Input Size: {input_size}')\n",
        "hidden_size1 = 32\n",
        "output_size = 1  # For regression\n",
        "learning_rate = 0.00000001\n",
        "\n",
        "model = MLP1(input_size, hidden_size1, output_size)\n",
        "optimizer = optim.Adam(model.parameters(), lr=learning_rate)\n",
        "\n",
        "\n",
        "\n",
        "# R-squared function\n",
        "def calculate_r_squared(y_true, y_pred):\n",
        "    return r2_score(y_true, y_pred)"
      ]
    },
    {
      "cell_type": "code",
      "execution_count": 1103,
      "metadata": {},
      "outputs": [
        {
          "name": "stderr",
          "output_type": "stream",
          "text": [
            "100%|██████████| 1123/1123 [00:04<00:00, 272.53it/s]\n",
            "100%|██████████| 374/374 [00:00<00:00, 897.94it/s]\n"
          ]
        },
        {
          "name": "stdout",
          "output_type": "stream",
          "text": [
            "Epoch 1/35, Loss: 0.2672, Val Loss: 0.2013, Validation R-squared: -34.8440\n"
          ]
        },
        {
          "name": "stderr",
          "output_type": "stream",
          "text": [
            "100%|██████████| 1123/1123 [00:03<00:00, 308.59it/s]\n",
            "100%|██████████| 374/374 [00:00<00:00, 889.02it/s]\n"
          ]
        },
        {
          "name": "stdout",
          "output_type": "stream",
          "text": [
            "Epoch 2/35, Loss: 0.2741, Val Loss: 0.1950, Validation R-squared: -33.7165\n"
          ]
        },
        {
          "name": "stderr",
          "output_type": "stream",
          "text": [
            "100%|██████████| 1123/1123 [00:03<00:00, 301.58it/s]\n",
            "100%|██████████| 374/374 [00:00<00:00, 877.41it/s]\n"
          ]
        },
        {
          "name": "stdout",
          "output_type": "stream",
          "text": [
            "Epoch 3/35, Loss: 0.2709, Val Loss: 0.1887, Validation R-squared: -32.6027\n"
          ]
        },
        {
          "name": "stderr",
          "output_type": "stream",
          "text": [
            "100%|██████████| 1123/1123 [00:03<00:00, 304.75it/s]\n",
            "100%|██████████| 374/374 [00:00<00:00, 919.82it/s]\n"
          ]
        },
        {
          "name": "stdout",
          "output_type": "stream",
          "text": [
            "Epoch 4/35, Loss: 0.2430, Val Loss: 0.1825, Validation R-squared: -31.5035\n"
          ]
        },
        {
          "name": "stderr",
          "output_type": "stream",
          "text": [
            "100%|██████████| 1123/1123 [00:03<00:00, 304.10it/s]\n",
            "100%|██████████| 374/374 [00:00<00:00, 835.88it/s]\n"
          ]
        },
        {
          "name": "stdout",
          "output_type": "stream",
          "text": [
            "Epoch 5/35, Loss: 0.2373, Val Loss: 0.1765, Validation R-squared: -30.4208\n"
          ]
        },
        {
          "name": "stderr",
          "output_type": "stream",
          "text": [
            "100%|██████████| 1123/1123 [00:03<00:00, 299.15it/s]\n",
            "100%|██████████| 374/374 [00:00<00:00, 876.07it/s]\n"
          ]
        },
        {
          "name": "stdout",
          "output_type": "stream",
          "text": [
            "Epoch 6/35, Loss: 0.2351, Val Loss: 0.1705, Validation R-squared: -29.3542\n"
          ]
        },
        {
          "name": "stderr",
          "output_type": "stream",
          "text": [
            "100%|██████████| 1123/1123 [00:03<00:00, 284.28it/s]\n",
            "100%|██████████| 374/374 [00:00<00:00, 825.32it/s]\n"
          ]
        },
        {
          "name": "stdout",
          "output_type": "stream",
          "text": [
            "Epoch 7/35, Loss: 0.2376, Val Loss: 0.1646, Validation R-squared: -28.3043\n"
          ]
        },
        {
          "name": "stderr",
          "output_type": "stream",
          "text": [
            "100%|██████████| 1123/1123 [00:06<00:00, 170.68it/s]\n",
            "100%|██████████| 374/374 [00:00<00:00, 578.18it/s]\n"
          ]
        },
        {
          "name": "stdout",
          "output_type": "stream",
          "text": [
            "Epoch 8/35, Loss: 0.2137, Val Loss: 0.1588, Validation R-squared: -27.2719\n"
          ]
        },
        {
          "name": "stderr",
          "output_type": "stream",
          "text": [
            "100%|██████████| 1123/1123 [00:04<00:00, 229.28it/s]\n",
            "100%|██████████| 374/374 [00:00<00:00, 860.85it/s]\n"
          ]
        },
        {
          "name": "stdout",
          "output_type": "stream",
          "text": [
            "Epoch 9/35, Loss: 0.2091, Val Loss: 0.1531, Validation R-squared: -26.2576\n"
          ]
        },
        {
          "name": "stderr",
          "output_type": "stream",
          "text": [
            "100%|██████████| 1123/1123 [00:04<00:00, 270.65it/s]\n",
            "100%|██████████| 374/374 [00:00<00:00, 805.18it/s]\n"
          ]
        },
        {
          "name": "stdout",
          "output_type": "stream",
          "text": [
            "Epoch 10/35, Loss: 0.2360, Val Loss: 0.1475, Validation R-squared: -25.2619\n"
          ]
        },
        {
          "name": "stderr",
          "output_type": "stream",
          "text": [
            "100%|██████████| 1123/1123 [00:04<00:00, 271.63it/s]\n",
            "100%|██████████| 374/374 [00:00<00:00, 901.18it/s]\n"
          ]
        },
        {
          "name": "stdout",
          "output_type": "stream",
          "text": [
            "Epoch 11/35, Loss: 0.1775, Val Loss: 0.1420, Validation R-squared: -24.2859\n"
          ]
        },
        {
          "name": "stderr",
          "output_type": "stream",
          "text": [
            "100%|██████████| 1123/1123 [00:03<00:00, 288.61it/s]\n",
            "100%|██████████| 374/374 [00:00<00:00, 854.03it/s]\n"
          ]
        },
        {
          "name": "stdout",
          "output_type": "stream",
          "text": [
            "Epoch 12/35, Loss: 0.2108, Val Loss: 0.1366, Validation R-squared: -23.3292\n"
          ]
        },
        {
          "name": "stderr",
          "output_type": "stream",
          "text": [
            "100%|██████████| 1123/1123 [00:04<00:00, 277.89it/s]\n",
            "100%|██████████| 374/374 [00:00<00:00, 853.16it/s]\n"
          ]
        },
        {
          "name": "stdout",
          "output_type": "stream",
          "text": [
            "Epoch 13/35, Loss: 0.1735, Val Loss: 0.1314, Validation R-squared: -22.3921\n"
          ]
        },
        {
          "name": "stderr",
          "output_type": "stream",
          "text": [
            "100%|██████████| 1123/1123 [00:03<00:00, 297.94it/s]\n",
            "100%|██████████| 374/374 [00:00<00:00, 869.05it/s]\n"
          ]
        },
        {
          "name": "stdout",
          "output_type": "stream",
          "text": [
            "Epoch 14/35, Loss: 0.1744, Val Loss: 0.1262, Validation R-squared: -21.4751\n"
          ]
        },
        {
          "name": "stderr",
          "output_type": "stream",
          "text": [
            "100%|██████████| 1123/1123 [00:03<00:00, 297.45it/s]\n",
            "100%|██████████| 374/374 [00:00<00:00, 873.05it/s]\n"
          ]
        },
        {
          "name": "stdout",
          "output_type": "stream",
          "text": [
            "Epoch 15/35, Loss: 0.1583, Val Loss: 0.1212, Validation R-squared: -20.5786\n"
          ]
        },
        {
          "name": "stderr",
          "output_type": "stream",
          "text": [
            "100%|██████████| 1123/1123 [00:03<00:00, 294.90it/s]\n",
            "100%|██████████| 374/374 [00:00<00:00, 857.47it/s]\n"
          ]
        },
        {
          "name": "stdout",
          "output_type": "stream",
          "text": [
            "Epoch 16/35, Loss: 0.1834, Val Loss: 0.1163, Validation R-squared: -19.7026\n"
          ]
        },
        {
          "name": "stderr",
          "output_type": "stream",
          "text": [
            "100%|██████████| 1123/1123 [00:03<00:00, 300.52it/s]\n",
            "100%|██████████| 374/374 [00:00<00:00, 905.55it/s]\n"
          ]
        },
        {
          "name": "stdout",
          "output_type": "stream",
          "text": [
            "Epoch 17/35, Loss: 0.1643, Val Loss: 0.1115, Validation R-squared: -18.8475\n"
          ]
        },
        {
          "name": "stderr",
          "output_type": "stream",
          "text": [
            "100%|██████████| 1123/1123 [00:03<00:00, 287.46it/s]\n",
            "100%|██████████| 374/374 [00:00<00:00, 853.03it/s]\n"
          ]
        },
        {
          "name": "stdout",
          "output_type": "stream",
          "text": [
            "Epoch 18/35, Loss: 0.1514, Val Loss: 0.1068, Validation R-squared: -18.0131\n"
          ]
        },
        {
          "name": "stderr",
          "output_type": "stream",
          "text": [
            "100%|██████████| 1123/1123 [00:03<00:00, 291.02it/s]\n",
            "100%|██████████| 374/374 [00:00<00:00, 881.41it/s]\n"
          ]
        },
        {
          "name": "stdout",
          "output_type": "stream",
          "text": [
            "Epoch 19/35, Loss: 0.1252, Val Loss: 0.1022, Validation R-squared: -17.1995\n"
          ]
        },
        {
          "name": "stderr",
          "output_type": "stream",
          "text": [
            "100%|██████████| 1123/1123 [00:03<00:00, 287.80it/s]\n",
            "100%|██████████| 374/374 [00:00<00:00, 899.74it/s]\n"
          ]
        },
        {
          "name": "stdout",
          "output_type": "stream",
          "text": [
            "Epoch 20/35, Loss: 0.1594, Val Loss: 0.0978, Validation R-squared: -16.4067\n"
          ]
        },
        {
          "name": "stderr",
          "output_type": "stream",
          "text": [
            "100%|██████████| 1123/1123 [00:03<00:00, 295.03it/s]\n",
            "100%|██████████| 374/374 [00:00<00:00, 950.38it/s]\n"
          ]
        },
        {
          "name": "stdout",
          "output_type": "stream",
          "text": [
            "Epoch 21/35, Loss: 0.1246, Val Loss: 0.0934, Validation R-squared: -15.6347\n"
          ]
        },
        {
          "name": "stderr",
          "output_type": "stream",
          "text": [
            "100%|██████████| 1123/1123 [00:03<00:00, 283.06it/s]\n",
            "100%|██████████| 374/374 [00:00<00:00, 798.42it/s]\n"
          ]
        },
        {
          "name": "stdout",
          "output_type": "stream",
          "text": [
            "Epoch 22/35, Loss: 0.1329, Val Loss: 0.0892, Validation R-squared: -14.8841\n"
          ]
        },
        {
          "name": "stderr",
          "output_type": "stream",
          "text": [
            "100%|██████████| 1123/1123 [00:04<00:00, 259.06it/s]\n",
            "100%|██████████| 374/374 [00:00<00:00, 971.95it/s]\n"
          ]
        },
        {
          "name": "stdout",
          "output_type": "stream",
          "text": [
            "Epoch 23/35, Loss: 0.1210, Val Loss: 0.0851, Validation R-squared: -14.1549\n"
          ]
        },
        {
          "name": "stderr",
          "output_type": "stream",
          "text": [
            "100%|██████████| 1123/1123 [00:03<00:00, 304.88it/s]\n",
            "100%|██████████| 374/374 [00:00<00:00, 898.66it/s]\n"
          ]
        },
        {
          "name": "stdout",
          "output_type": "stream",
          "text": [
            "Epoch 24/35, Loss: 0.1109, Val Loss: 0.0811, Validation R-squared: -13.4467\n"
          ]
        },
        {
          "name": "stderr",
          "output_type": "stream",
          "text": [
            "100%|██████████| 1123/1123 [00:03<00:00, 301.66it/s]\n",
            "100%|██████████| 374/374 [00:00<00:00, 901.95it/s]\n"
          ]
        },
        {
          "name": "stdout",
          "output_type": "stream",
          "text": [
            "Epoch 25/35, Loss: 0.1148, Val Loss: 0.0773, Validation R-squared: -12.7586\n"
          ]
        },
        {
          "name": "stderr",
          "output_type": "stream",
          "text": [
            "100%|██████████| 1123/1123 [00:03<00:00, 305.79it/s]\n",
            "100%|██████████| 374/374 [00:00<00:00, 939.73it/s]\n"
          ]
        },
        {
          "name": "stdout",
          "output_type": "stream",
          "text": [
            "Epoch 26/35, Loss: 0.0979, Val Loss: 0.0735, Validation R-squared: -12.0916\n"
          ]
        },
        {
          "name": "stderr",
          "output_type": "stream",
          "text": [
            "100%|██████████| 1123/1123 [00:03<00:00, 297.03it/s]\n",
            "100%|██████████| 374/374 [00:00<00:00, 976.09it/s]\n"
          ]
        },
        {
          "name": "stdout",
          "output_type": "stream",
          "text": [
            "Epoch 27/35, Loss: 0.0834, Val Loss: 0.0699, Validation R-squared: -11.4443\n"
          ]
        },
        {
          "name": "stderr",
          "output_type": "stream",
          "text": [
            "100%|██████████| 1123/1123 [00:03<00:00, 300.25it/s]\n",
            "100%|██████████| 374/374 [00:00<00:00, 915.27it/s]\n"
          ]
        },
        {
          "name": "stdout",
          "output_type": "stream",
          "text": [
            "Epoch 28/35, Loss: 0.0805, Val Loss: 0.0664, Validation R-squared: -10.8171\n"
          ]
        },
        {
          "name": "stderr",
          "output_type": "stream",
          "text": [
            "100%|██████████| 1123/1123 [00:03<00:00, 305.11it/s]\n",
            "100%|██████████| 374/374 [00:00<00:00, 823.99it/s]\n"
          ]
        },
        {
          "name": "stdout",
          "output_type": "stream",
          "text": [
            "Epoch 29/35, Loss: 0.0825, Val Loss: 0.0630, Validation R-squared: -10.2105\n"
          ]
        },
        {
          "name": "stderr",
          "output_type": "stream",
          "text": [
            "100%|██████████| 1123/1123 [00:03<00:00, 312.82it/s]\n",
            "100%|██████████| 374/374 [00:00<00:00, 933.79it/s] \n"
          ]
        },
        {
          "name": "stdout",
          "output_type": "stream",
          "text": [
            "Epoch 30/35, Loss: 0.0832, Val Loss: 0.0597, Validation R-squared: -9.6236\n"
          ]
        },
        {
          "name": "stderr",
          "output_type": "stream",
          "text": [
            "100%|██████████| 1123/1123 [00:03<00:00, 307.19it/s]\n",
            "100%|██████████| 374/374 [00:00<00:00, 938.87it/s]\n"
          ]
        },
        {
          "name": "stdout",
          "output_type": "stream",
          "text": [
            "Epoch 31/35, Loss: 0.0755, Val Loss: 0.0565, Validation R-squared: -9.0565\n"
          ]
        },
        {
          "name": "stderr",
          "output_type": "stream",
          "text": [
            "100%|██████████| 1123/1123 [00:03<00:00, 299.49it/s]\n",
            "100%|██████████| 374/374 [00:00<00:00, 892.24it/s]\n"
          ]
        },
        {
          "name": "stdout",
          "output_type": "stream",
          "text": [
            "Epoch 32/35, Loss: 0.0866, Val Loss: 0.0534, Validation R-squared: -8.5093\n"
          ]
        },
        {
          "name": "stderr",
          "output_type": "stream",
          "text": [
            "100%|██████████| 1123/1123 [00:03<00:00, 307.26it/s]\n",
            "100%|██████████| 374/374 [00:00<00:00, 910.50it/s]\n"
          ]
        },
        {
          "name": "stdout",
          "output_type": "stream",
          "text": [
            "Epoch 33/35, Loss: 0.0642, Val Loss: 0.0504, Validation R-squared: -7.9810\n"
          ]
        },
        {
          "name": "stderr",
          "output_type": "stream",
          "text": [
            "100%|██████████| 1123/1123 [00:03<00:00, 305.66it/s]\n",
            "100%|██████████| 374/374 [00:00<00:00, 883.92it/s]\n"
          ]
        },
        {
          "name": "stdout",
          "output_type": "stream",
          "text": [
            "Epoch 34/35, Loss: 0.0696, Val Loss: 0.0476, Validation R-squared: -7.4725\n"
          ]
        },
        {
          "name": "stderr",
          "output_type": "stream",
          "text": [
            "100%|██████████| 1123/1123 [00:03<00:00, 311.18it/s]\n",
            "100%|██████████| 374/374 [00:00<00:00, 881.01it/s]"
          ]
        },
        {
          "name": "stdout",
          "output_type": "stream",
          "text": [
            "Epoch 35/35, Loss: 0.0645, Val Loss: 0.0448, Validation R-squared: -6.9829\n",
            "Training finished.\n"
          ]
        },
        {
          "name": "stderr",
          "output_type": "stream",
          "text": [
            "\n"
          ]
        }
      ],
      "source": [
        "#Number of Epochs\n",
        "num_epochs = 35\n",
        "\n",
        "#Storage\n",
        "train_losses = []\n",
        "val_losses = []\n",
        "val_r_squared_values = []\n",
        "\n",
        "#Training\n",
        "for epoch in range(num_epochs):\n",
        "    model.train()\n",
        "    for batch_x, batch_y in tqdm(train_loader):\n",
        "        outputs = model(batch_x)\n",
        "\n",
        "        loss = criterion(outputs, batch_y.unsqueeze(1))\n",
        "\n",
        "        optimizer.zero_grad()\n",
        "        loss.backward()\n",
        "        optimizer.step()\n",
        "\n",
        "    #Validation\n",
        "    model.eval()\n",
        "    val_predictions = []\n",
        "    val_targets = []\n",
        "    val_loss = 0.0\n",
        "    with torch.no_grad():\n",
        "        for val_batch_x, val_batch_y in tqdm(val_loader):\n",
        "            val_outputs = model(val_batch_x)\n",
        "            val_loss += criterion(val_outputs, val_batch_y.unsqueeze(1)).item()\n",
        "\n",
        "            #Validation Set R-squared\n",
        "            val_predictions.extend(val_outputs.numpy())\n",
        "            val_targets.extend(val_batch_y.unsqueeze(1).numpy())\n",
        "\n",
        "    val_loss /= len(val_loader)\n",
        "    val_r_squared = calculate_r_squared(val_targets, val_predictions)\n",
        "\n",
        "    #Storage\n",
        "    train_losses.append(loss.item())\n",
        "    val_losses.append(val_loss)\n",
        "    val_r_squared_values.append(val_r_squared)\n",
        "\n",
        "    print(f'Epoch {epoch+1}/{num_epochs}, Loss: {loss.item():.4f}, Val Loss: {val_loss:.4f}, Validation R-squared: {val_r_squared:.4f}')\n",
        "\n",
        "print('Training finished.')"
      ]
    },
    {
      "cell_type": "code",
      "execution_count": 1104,
      "metadata": {},
      "outputs": [
        {
          "data": {
            "image/png": "[encoded data removed]",
            "text/plain": [
              "<Figure size 1200x600 with 1 Axes>"
            ]
          },
          "metadata": {},
          "output_type": "display_data"
        }
      ],
      "source": [
        "# Plotting\n",
        "epochs = np.arange(1, num_epochs + 1)\n",
        "#Losses\n",
        "plt.figure(figsize=(12, 6))\n",
        "plt.plot(epochs, train_losses, label='Training Loss')\n",
        "plt.plot(epochs, val_losses, label='Validation Loss')\n",
        "plt.xlabel('Epoch')\n",
        "plt.ylabel('Loss')\n",
        "plt.title('Training and Validation Loss Over Epochs')\n",
        "plt.legend()\n",
        "plt.show()"
      ]
    },
    {
      "cell_type": "code",
      "execution_count": 1105,
      "metadata": {},
      "outputs": [
        {
          "data": {
            "image/png": "[encoded data removed]",
            "text/plain": [
              "<Figure size 1200x600 with 1 Axes>"
            ]
          },
          "metadata": {},
          "output_type": "display_data"
        }
      ],
      "source": [
        "#R-squared values\n",
        "plt.figure(figsize=(12, 6))\n",
        "plt.plot(epochs, val_r_squared_values, label='Validation R-squared')\n",
        "plt.xlabel('Epoch')\n",
        "plt.ylabel('R-squared')\n",
        "plt.title('Validation R-squared Over Epochs')\n",
        "plt.legend()\n",
        "plt.show()"
      ]
    },
    {
      "cell_type": "code",
      "execution_count": 1106,
      "metadata": {},
      "outputs": [
        {
          "name": "stdout",
          "output_type": "stream",
          "text": [
            "Test Loss: 0.0617\n",
            "R-squared: -4.8502\n",
            "Training and Testing finished.\n"
          ]
        }
      ],
      "source": [
        "# Testing\n",
        "model.eval()\n",
        "test_loss = 0.0\n",
        "all_predictions = []\n",
        "all_targets = []\n",
        "\n",
        "with torch.no_grad():\n",
        "    for test_batch_x, test_batch_y in test_loader:\n",
        "        test_outputs = model(test_batch_x)\n",
        "        test_batch_y = test_batch_y.view(-1, 1)  # Ensure the target tensor has shape [batch_size, 1]\n",
        "        test_loss += criterion(test_outputs, test_batch_y).item()\n",
        "\n",
        "        all_predictions.extend(test_outputs.numpy())\n",
        "        all_targets.extend(test_batch_y.numpy())\n",
        "\n",
        "test_loss /= len(test_loader)\n",
        "\n",
        "# Calculate R-squared\n",
        "r_squared_MLP1 = calculate_r_squared(all_targets, all_predictions)\n",
        "\n",
        "print(f'Test Loss: {test_loss:.4f}')\n",
        "print(f'R-squared: {r_squared_MLP1:.4f}')\n",
        "\n",
        "print('Training and Testing finished.')"
      ]
    },
    {
      "cell_type": "code",
      "execution_count": 1107,
      "metadata": {},
      "outputs": [
        {
          "data": {
            "text/plain": [
              "Text(0.5, 1.0, 'Actual vs. Predicted Test Set')"
            ]
          },
          "execution_count": 1107,
          "metadata": {},
          "output_type": "execute_result"
        },
        {
          "data": {
            "image/png": "[encoded data removed]",
            "text/plain": [
              "<Figure size 640x480 with 1 Axes>"
            ]
          },
          "metadata": {},
          "output_type": "display_data"
        }
      ],
      "source": [
        "plt.scatter(all_targets, all_predictions)\n",
        "plt.xlabel('Actual Values')\n",
        "plt.ylabel('Predicted Values')\n",
        "plt.title('Actual vs. Predicted Test Set')"
      ]
    },
    {
      "cell_type": "code",
      "execution_count": 1108,
      "metadata": {},
      "outputs": [
        {
          "data": {
            "text/html": [
              "<div>\n",
              "<style scoped>\n",
              "    .dataframe tbody tr th:only-of-type {\n",
              "        vertical-align: middle;\n",
              "    }\n",
              "\n",
              "    .dataframe tbody tr th {\n",
              "        vertical-align: top;\n",
              "    }\n",
              "\n",
              "    .dataframe thead th {\n",
              "        text-align: right;\n",
              "    }\n",
              "</style>\n",
              "<table border=\"1\" class=\"dataframe\">\n",
              "  <thead>\n",
              "    <tr style=\"text-align: right;\">\n",
              "      <th></th>\n",
              "      <th>permno</th>\n",
              "      <th>DATE</th>\n",
              "      <th>RET</th>\n",
              "      <th>pred</th>\n",
              "    </tr>\n",
              "  </thead>\n",
              "  <tbody>\n",
              "    <tr>\n",
              "      <th>0</th>\n",
              "      <td>14593</td>\n",
              "      <td>202112</td>\n",
              "      <td>0.074229</td>\n",
              "      <td>-0.153399</td>\n",
              "    </tr>\n",
              "    <tr>\n",
              "      <th>1</th>\n",
              "      <td>14593</td>\n",
              "      <td>202109</td>\n",
              "      <td>-0.068037</td>\n",
              "      <td>-0.189105</td>\n",
              "    </tr>\n",
              "    <tr>\n",
              "      <th>2</th>\n",
              "      <td>10107</td>\n",
              "      <td>202111</td>\n",
              "      <td>-0.001236</td>\n",
              "      <td>-0.182977</td>\n",
              "    </tr>\n",
              "    <tr>\n",
              "      <th>3</th>\n",
              "      <td>10107</td>\n",
              "      <td>202112</td>\n",
              "      <td>0.017333</td>\n",
              "      <td>-0.184829</td>\n",
              "    </tr>\n",
              "    <tr>\n",
              "      <th>4</th>\n",
              "      <td>14593</td>\n",
              "      <td>202111</td>\n",
              "      <td>0.104940</td>\n",
              "      <td>-0.150532</td>\n",
              "    </tr>\n",
              "  </tbody>\n",
              "</table>\n",
              "</div>"
            ],
            "text/plain": [
              "   permno    DATE       RET      pred\n",
              "0   14593  202112  0.074229 -0.153399\n",
              "1   14593  202109 -0.068037 -0.189105\n",
              "2   10107  202111 -0.001236 -0.182977\n",
              "3   10107  202112  0.017333 -0.184829\n",
              "4   14593  202111  0.104940 -0.150532"
            ]
          },
          "execution_count": 1108,
          "metadata": {},
          "output_type": "execute_result"
        }
      ],
      "source": [
        "#Export out\n",
        "predictions = [item for sublist in all_predictions for item in sublist]\n",
        "output_mlp1 = output.copy()\n",
        "output_mlp1['pred'] = predictions\n",
        "output_mlp1.to_csv('output_mlp1.csv',index=False)\n",
        "output_mlp1.head()"
      ]
    },
    {
      "cell_type": "markdown",
      "metadata": {},
      "source": [
        "## MLP with 2 hidden layers"
      ]
    },
    {
      "cell_type": "code",
      "execution_count": 1109,
      "metadata": {},
      "outputs": [],
      "source": [
        "#MLP with 2 hidden layers\n",
        "class MLP2(nn.Module):\n",
        "    def __init__(self, input_size, hidden_size1, hidden_size2, output_size):\n",
        "        super(MLP2, self).__init__()\n",
        "        \n",
        "        #Create fully connected layers\n",
        "        self.fc1 = nn.Linear(input_size, hidden_size1)\n",
        "        self.fc2 = nn.Linear(hidden_size1, hidden_size2)\n",
        "        self.fc3 = nn.Linear(hidden_size2, output_size)\n",
        "\n",
        "        #Batch Normalization\n",
        "        #self.bn1 = nn.BatchNorm1d(hidden_size1)\n",
        "        #self.bn2 = nn.BatchNorm1d(hidden_size2)\n",
        "\n",
        "\n",
        "    def forward(self, x):\n",
        "        x = x.view(-1, number_of_features)\n",
        "        #x = F.leaky_relu(self.fc1(x), negative_slope=0.1)\n",
        "        #x = F.leaky_relu(self.fc2(x), negative_slope=0.1)\n",
        "        x = F.relu(self.fc1(x))\n",
        "        x = F.relu(self.fc2(x))\n",
        "        \n",
        "        #x = torch.sigmoid(self.fc3(x)) - 0.5\n",
        "        x = torch.tanh(self.fc3(x))\n",
        "        #x = self.fc3(x)\n",
        "        return x"
      ]
    },
    {
      "cell_type": "code",
      "execution_count": 1110,
      "metadata": {},
      "outputs": [
        {
          "name": "stdout",
          "output_type": "stream",
          "text": [
            "Input Size: 911\n"
          ]
        }
      ],
      "source": [
        "# Adjust input_size based on the number of features in your input data\n",
        "input_size = number_of_features\n",
        "print(f'Input Size: {input_size}')\n",
        "hidden_size1, hidden_size2, = 32, 16\n",
        "output_size = 1  # For regression\n",
        "learning_rate = 0.00000001\n",
        "\n",
        "model = MLP2(input_size, hidden_size1, hidden_size2, output_size)\n",
        "optimizer = optim.Adam(model.parameters(), lr=learning_rate)\n",
        "\n",
        "\n",
        "# R-squared function\n",
        "def calculate_r_squared(y_true, y_pred):\n",
        "    return r2_score(y_true, y_pred)"
      ]
    },
    {
      "cell_type": "code",
      "execution_count": 1111,
      "metadata": {},
      "outputs": [
        {
          "name": "stderr",
          "output_type": "stream",
          "text": [
            "100%|██████████| 1123/1123 [00:04<00:00, 254.61it/s]\n",
            "100%|██████████| 374/374 [00:00<00:00, 783.76it/s]\n"
          ]
        },
        {
          "name": "stdout",
          "output_type": "stream",
          "text": [
            "Epoch 1/45, Loss: 0.0081, Val Loss: 0.0092, Validation R-squared: -0.6418\n"
          ]
        },
        {
          "name": "stderr",
          "output_type": "stream",
          "text": [
            "100%|██████████| 1123/1123 [00:04<00:00, 247.01it/s]\n",
            "100%|██████████| 374/374 [00:00<00:00, 799.70it/s]\n"
          ]
        },
        {
          "name": "stdout",
          "output_type": "stream",
          "text": [
            "Epoch 2/45, Loss: 0.0075, Val Loss: 0.0089, Validation R-squared: -0.5917\n"
          ]
        },
        {
          "name": "stderr",
          "output_type": "stream",
          "text": [
            "100%|██████████| 1123/1123 [00:05<00:00, 216.05it/s]\n",
            "100%|██████████| 374/374 [00:00<00:00, 666.93it/s]\n"
          ]
        },
        {
          "name": "stdout",
          "output_type": "stream",
          "text": [
            "Epoch 3/45, Loss: 0.0063, Val Loss: 0.0087, Validation R-squared: -0.5467\n"
          ]
        },
        {
          "name": "stderr",
          "output_type": "stream",
          "text": [
            "100%|██████████| 1123/1123 [00:04<00:00, 232.11it/s]\n",
            "100%|██████████| 374/374 [00:00<00:00, 790.85it/s]\n"
          ]
        },
        {
          "name": "stdout",
          "output_type": "stream",
          "text": [
            "Epoch 4/45, Loss: 0.0112, Val Loss: 0.0085, Validation R-squared: -0.5051\n"
          ]
        },
        {
          "name": "stderr",
          "output_type": "stream",
          "text": [
            "100%|██████████| 1123/1123 [00:04<00:00, 244.29it/s]\n",
            "100%|██████████| 374/374 [00:00<00:00, 741.50it/s]\n"
          ]
        },
        {
          "name": "stdout",
          "output_type": "stream",
          "text": [
            "Epoch 5/45, Loss: 0.0055, Val Loss: 0.0082, Validation R-squared: -0.4671\n"
          ]
        },
        {
          "name": "stderr",
          "output_type": "stream",
          "text": [
            "100%|██████████| 1123/1123 [00:04<00:00, 226.51it/s]\n",
            "100%|██████████| 374/374 [00:00<00:00, 728.05it/s]\n"
          ]
        },
        {
          "name": "stdout",
          "output_type": "stream",
          "text": [
            "Epoch 6/45, Loss: 0.0038, Val Loss: 0.0080, Validation R-squared: -0.4328\n"
          ]
        },
        {
          "name": "stderr",
          "output_type": "stream",
          "text": [
            "100%|██████████| 1123/1123 [00:06<00:00, 184.25it/s]\n",
            "100%|██████████| 374/374 [00:00<00:00, 532.27it/s]\n"
          ]
        },
        {
          "name": "stdout",
          "output_type": "stream",
          "text": [
            "Epoch 7/45, Loss: 0.0055, Val Loss: 0.0079, Validation R-squared: -0.4023\n"
          ]
        },
        {
          "name": "stderr",
          "output_type": "stream",
          "text": [
            "100%|██████████| 1123/1123 [00:06<00:00, 172.99it/s]\n",
            "100%|██████████| 374/374 [00:00<00:00, 522.88it/s]\n"
          ]
        },
        {
          "name": "stdout",
          "output_type": "stream",
          "text": [
            "Epoch 8/45, Loss: 0.0040, Val Loss: 0.0077, Validation R-squared: -0.3755\n"
          ]
        },
        {
          "name": "stderr",
          "output_type": "stream",
          "text": [
            "100%|██████████| 1123/1123 [00:06<00:00, 165.58it/s]\n",
            "100%|██████████| 374/374 [00:00<00:00, 557.03it/s]\n"
          ]
        },
        {
          "name": "stdout",
          "output_type": "stream",
          "text": [
            "Epoch 9/45, Loss: 0.0062, Val Loss: 0.0076, Validation R-squared: -0.3523\n"
          ]
        },
        {
          "name": "stderr",
          "output_type": "stream",
          "text": [
            "100%|██████████| 1123/1123 [00:07<00:00, 152.63it/s]\n",
            "100%|██████████| 374/374 [00:00<00:00, 433.41it/s]\n"
          ]
        },
        {
          "name": "stdout",
          "output_type": "stream",
          "text": [
            "Epoch 10/45, Loss: 0.0094, Val Loss: 0.0075, Validation R-squared: -0.3329\n"
          ]
        },
        {
          "name": "stderr",
          "output_type": "stream",
          "text": [
            "100%|██████████| 1123/1123 [00:05<00:00, 191.37it/s]\n",
            "100%|██████████| 374/374 [00:00<00:00, 587.60it/s]\n"
          ]
        },
        {
          "name": "stdout",
          "output_type": "stream",
          "text": [
            "Epoch 11/45, Loss: 0.0062, Val Loss: 0.0074, Validation R-squared: -0.3170\n"
          ]
        },
        {
          "name": "stderr",
          "output_type": "stream",
          "text": [
            "100%|██████████| 1123/1123 [00:06<00:00, 160.91it/s]\n",
            "100%|██████████| 374/374 [00:00<00:00, 431.04it/s]\n"
          ]
        },
        {
          "name": "stdout",
          "output_type": "stream",
          "text": [
            "Epoch 12/45, Loss: 0.0045, Val Loss: 0.0073, Validation R-squared: -0.3041\n"
          ]
        },
        {
          "name": "stderr",
          "output_type": "stream",
          "text": [
            "100%|██████████| 1123/1123 [00:07<00:00, 147.41it/s]\n",
            "100%|██████████| 374/374 [00:00<00:00, 411.51it/s]\n"
          ]
        },
        {
          "name": "stdout",
          "output_type": "stream",
          "text": [
            "Epoch 13/45, Loss: 0.0057, Val Loss: 0.0073, Validation R-squared: -0.2939\n"
          ]
        },
        {
          "name": "stderr",
          "output_type": "stream",
          "text": [
            "100%|██████████| 1123/1123 [00:07<00:00, 148.10it/s]\n",
            "100%|██████████| 374/374 [00:01<00:00, 354.94it/s]\n"
          ]
        },
        {
          "name": "stdout",
          "output_type": "stream",
          "text": [
            "Epoch 14/45, Loss: 0.0073, Val Loss: 0.0072, Validation R-squared: -0.2858\n"
          ]
        },
        {
          "name": "stderr",
          "output_type": "stream",
          "text": [
            "100%|██████████| 1123/1123 [00:06<00:00, 184.35it/s]\n",
            "100%|██████████| 374/374 [00:00<00:00, 671.60it/s]\n"
          ]
        },
        {
          "name": "stdout",
          "output_type": "stream",
          "text": [
            "Epoch 15/45, Loss: 0.0069, Val Loss: 0.0072, Validation R-squared: -0.2792\n"
          ]
        },
        {
          "name": "stderr",
          "output_type": "stream",
          "text": [
            "100%|██████████| 1123/1123 [00:05<00:00, 194.38it/s]\n",
            "100%|██████████| 374/374 [00:00<00:00, 642.24it/s]\n"
          ]
        },
        {
          "name": "stdout",
          "output_type": "stream",
          "text": [
            "Epoch 16/45, Loss: 0.0080, Val Loss: 0.0072, Validation R-squared: -0.2739\n"
          ]
        },
        {
          "name": "stderr",
          "output_type": "stream",
          "text": [
            "100%|██████████| 1123/1123 [00:05<00:00, 206.29it/s]\n",
            "100%|██████████| 374/374 [00:00<00:00, 664.56it/s]\n"
          ]
        },
        {
          "name": "stdout",
          "output_type": "stream",
          "text": [
            "Epoch 17/45, Loss: 0.0048, Val Loss: 0.0071, Validation R-squared: -0.2697\n"
          ]
        },
        {
          "name": "stderr",
          "output_type": "stream",
          "text": [
            "100%|██████████| 1123/1123 [00:05<00:00, 213.22it/s]\n",
            "100%|██████████| 374/374 [00:00<00:00, 768.77it/s]\n"
          ]
        },
        {
          "name": "stdout",
          "output_type": "stream",
          "text": [
            "Epoch 18/45, Loss: 0.0057, Val Loss: 0.0071, Validation R-squared: -0.2659\n"
          ]
        },
        {
          "name": "stderr",
          "output_type": "stream",
          "text": [
            "100%|██████████| 1123/1123 [00:05<00:00, 197.11it/s]\n",
            "100%|██████████| 374/374 [00:00<00:00, 575.80it/s]\n"
          ]
        },
        {
          "name": "stdout",
          "output_type": "stream",
          "text": [
            "Epoch 19/45, Loss: 0.0048, Val Loss: 0.0071, Validation R-squared: -0.2631\n"
          ]
        },
        {
          "name": "stderr",
          "output_type": "stream",
          "text": [
            "100%|██████████| 1123/1123 [00:05<00:00, 204.74it/s]\n",
            "100%|██████████| 374/374 [00:00<00:00, 810.17it/s]\n"
          ]
        },
        {
          "name": "stdout",
          "output_type": "stream",
          "text": [
            "Epoch 20/45, Loss: 0.0247, Val Loss: 0.0071, Validation R-squared: -0.2604\n"
          ]
        },
        {
          "name": "stderr",
          "output_type": "stream",
          "text": [
            "100%|██████████| 1123/1123 [00:04<00:00, 225.53it/s]\n",
            "100%|██████████| 374/374 [00:00<00:00, 680.34it/s]\n"
          ]
        },
        {
          "name": "stdout",
          "output_type": "stream",
          "text": [
            "Epoch 21/45, Loss: 0.0031, Val Loss: 0.0071, Validation R-squared: -0.2580\n"
          ]
        },
        {
          "name": "stderr",
          "output_type": "stream",
          "text": [
            "100%|██████████| 1123/1123 [00:05<00:00, 208.58it/s]\n",
            "100%|██████████| 374/374 [00:00<00:00, 717.87it/s]\n"
          ]
        },
        {
          "name": "stdout",
          "output_type": "stream",
          "text": [
            "Epoch 22/45, Loss: 0.0091, Val Loss: 0.0071, Validation R-squared: -0.2559\n"
          ]
        },
        {
          "name": "stderr",
          "output_type": "stream",
          "text": [
            "100%|██████████| 1123/1123 [00:04<00:00, 227.70it/s]\n",
            "100%|██████████| 374/374 [00:00<00:00, 802.39it/s]\n"
          ]
        },
        {
          "name": "stdout",
          "output_type": "stream",
          "text": [
            "Epoch 23/45, Loss: 0.0025, Val Loss: 0.0070, Validation R-squared: -0.2539\n"
          ]
        },
        {
          "name": "stderr",
          "output_type": "stream",
          "text": [
            "100%|██████████| 1123/1123 [00:08<00:00, 129.42it/s]\n",
            "100%|██████████| 374/374 [00:01<00:00, 290.32it/s]\n"
          ]
        },
        {
          "name": "stdout",
          "output_type": "stream",
          "text": [
            "Epoch 24/45, Loss: 0.0073, Val Loss: 0.0070, Validation R-squared: -0.2522\n"
          ]
        },
        {
          "name": "stderr",
          "output_type": "stream",
          "text": [
            "100%|██████████| 1123/1123 [00:11<00:00, 99.40it/s] \n",
            "100%|██████████| 374/374 [00:01<00:00, 309.64it/s]\n"
          ]
        },
        {
          "name": "stdout",
          "output_type": "stream",
          "text": [
            "Epoch 25/45, Loss: 0.0051, Val Loss: 0.0070, Validation R-squared: -0.2505\n"
          ]
        },
        {
          "name": "stderr",
          "output_type": "stream",
          "text": [
            "100%|██████████| 1123/1123 [00:10<00:00, 107.41it/s]\n",
            "100%|██████████| 374/374 [00:01<00:00, 315.61it/s]\n"
          ]
        },
        {
          "name": "stdout",
          "output_type": "stream",
          "text": [
            "Epoch 26/45, Loss: 0.0059, Val Loss: 0.0070, Validation R-squared: -0.2490\n"
          ]
        },
        {
          "name": "stderr",
          "output_type": "stream",
          "text": [
            "100%|██████████| 1123/1123 [00:11<00:00, 101.48it/s]\n",
            "100%|██████████| 374/374 [00:01<00:00, 294.00it/s]\n"
          ]
        },
        {
          "name": "stdout",
          "output_type": "stream",
          "text": [
            "Epoch 27/45, Loss: 0.0077, Val Loss: 0.0070, Validation R-squared: -0.2475\n"
          ]
        },
        {
          "name": "stderr",
          "output_type": "stream",
          "text": [
            "100%|██████████| 1123/1123 [00:10<00:00, 102.71it/s]\n",
            "100%|██████████| 374/374 [00:01<00:00, 300.20it/s]\n"
          ]
        },
        {
          "name": "stdout",
          "output_type": "stream",
          "text": [
            "Epoch 28/45, Loss: 0.0050, Val Loss: 0.0070, Validation R-squared: -0.2459\n"
          ]
        },
        {
          "name": "stderr",
          "output_type": "stream",
          "text": [
            "100%|██████████| 1123/1123 [00:10<00:00, 102.09it/s]\n",
            "100%|██████████| 374/374 [00:01<00:00, 291.77it/s]\n"
          ]
        },
        {
          "name": "stdout",
          "output_type": "stream",
          "text": [
            "Epoch 29/45, Loss: 0.0089, Val Loss: 0.0070, Validation R-squared: -0.2445\n"
          ]
        },
        {
          "name": "stderr",
          "output_type": "stream",
          "text": [
            "100%|██████████| 1123/1123 [00:10<00:00, 102.40it/s]\n",
            "100%|██████████| 374/374 [00:01<00:00, 302.66it/s]\n"
          ]
        },
        {
          "name": "stdout",
          "output_type": "stream",
          "text": [
            "Epoch 30/45, Loss: 0.0079, Val Loss: 0.0070, Validation R-squared: -0.2431\n"
          ]
        },
        {
          "name": "stderr",
          "output_type": "stream",
          "text": [
            "100%|██████████| 1123/1123 [00:11<00:00, 101.49it/s]\n",
            "100%|██████████| 374/374 [00:01<00:00, 295.55it/s]\n"
          ]
        },
        {
          "name": "stdout",
          "output_type": "stream",
          "text": [
            "Epoch 31/45, Loss: 0.0054, Val Loss: 0.0070, Validation R-squared: -0.2417\n"
          ]
        },
        {
          "name": "stderr",
          "output_type": "stream",
          "text": [
            "100%|██████████| 1123/1123 [00:11<00:00, 101.74it/s]\n",
            "100%|██████████| 374/374 [00:01<00:00, 297.16it/s]\n"
          ]
        },
        {
          "name": "stdout",
          "output_type": "stream",
          "text": [
            "Epoch 32/45, Loss: 0.0050, Val Loss: 0.0070, Validation R-squared: -0.2404\n"
          ]
        },
        {
          "name": "stderr",
          "output_type": "stream",
          "text": [
            "100%|██████████| 1123/1123 [00:10<00:00, 102.53it/s]\n",
            "100%|██████████| 374/374 [00:01<00:00, 283.34it/s]\n"
          ]
        },
        {
          "name": "stdout",
          "output_type": "stream",
          "text": [
            "Epoch 33/45, Loss: 0.0047, Val Loss: 0.0070, Validation R-squared: -0.2389\n"
          ]
        },
        {
          "name": "stderr",
          "output_type": "stream",
          "text": [
            "100%|██████████| 1123/1123 [00:11<00:00, 100.73it/s]\n",
            "100%|██████████| 374/374 [00:01<00:00, 302.74it/s]\n"
          ]
        },
        {
          "name": "stdout",
          "output_type": "stream",
          "text": [
            "Epoch 34/45, Loss: 0.0040, Val Loss: 0.0070, Validation R-squared: -0.2375\n"
          ]
        },
        {
          "name": "stderr",
          "output_type": "stream",
          "text": [
            "100%|██████████| 1123/1123 [00:11<00:00, 101.54it/s]\n",
            "100%|██████████| 374/374 [00:01<00:00, 299.91it/s]\n"
          ]
        },
        {
          "name": "stdout",
          "output_type": "stream",
          "text": [
            "Epoch 35/45, Loss: 0.0093, Val Loss: 0.0069, Validation R-squared: -0.2362\n"
          ]
        },
        {
          "name": "stderr",
          "output_type": "stream",
          "text": [
            "100%|██████████| 1123/1123 [00:11<00:00, 101.65it/s]\n",
            "100%|██████████| 374/374 [00:01<00:00, 326.00it/s]\n"
          ]
        },
        {
          "name": "stdout",
          "output_type": "stream",
          "text": [
            "Epoch 36/45, Loss: 0.0046, Val Loss: 0.0069, Validation R-squared: -0.2347\n"
          ]
        },
        {
          "name": "stderr",
          "output_type": "stream",
          "text": [
            "100%|██████████| 1123/1123 [00:11<00:00, 101.38it/s]\n",
            "100%|██████████| 374/374 [00:01<00:00, 306.60it/s]\n"
          ]
        },
        {
          "name": "stdout",
          "output_type": "stream",
          "text": [
            "Epoch 37/45, Loss: 0.0136, Val Loss: 0.0069, Validation R-squared: -0.2335\n"
          ]
        },
        {
          "name": "stderr",
          "output_type": "stream",
          "text": [
            "100%|██████████| 1123/1123 [00:10<00:00, 103.13it/s]\n",
            "100%|██████████| 374/374 [00:01<00:00, 300.48it/s]\n"
          ]
        },
        {
          "name": "stdout",
          "output_type": "stream",
          "text": [
            "Epoch 38/45, Loss: 0.0026, Val Loss: 0.0069, Validation R-squared: -0.2322\n"
          ]
        },
        {
          "name": "stderr",
          "output_type": "stream",
          "text": [
            "100%|██████████| 1123/1123 [00:11<00:00, 100.43it/s]\n",
            "100%|██████████| 374/374 [00:01<00:00, 311.51it/s]\n"
          ]
        },
        {
          "name": "stdout",
          "output_type": "stream",
          "text": [
            "Epoch 39/45, Loss: 0.0047, Val Loss: 0.0069, Validation R-squared: -0.2309\n"
          ]
        },
        {
          "name": "stderr",
          "output_type": "stream",
          "text": [
            "100%|██████████| 1123/1123 [00:11<00:00, 101.40it/s]\n",
            "100%|██████████| 374/374 [00:01<00:00, 302.82it/s]\n"
          ]
        },
        {
          "name": "stdout",
          "output_type": "stream",
          "text": [
            "Epoch 40/45, Loss: 0.0044, Val Loss: 0.0069, Validation R-squared: -0.2298\n"
          ]
        },
        {
          "name": "stderr",
          "output_type": "stream",
          "text": [
            "100%|██████████| 1123/1123 [00:10<00:00, 103.30it/s]\n",
            "100%|██████████| 374/374 [00:01<00:00, 301.79it/s]\n"
          ]
        },
        {
          "name": "stdout",
          "output_type": "stream",
          "text": [
            "Epoch 41/45, Loss: 0.0106, Val Loss: 0.0069, Validation R-squared: -0.2287\n"
          ]
        },
        {
          "name": "stderr",
          "output_type": "stream",
          "text": [
            "100%|██████████| 1123/1123 [00:10<00:00, 102.91it/s]\n",
            "100%|██████████| 374/374 [00:01<00:00, 298.50it/s]\n"
          ]
        },
        {
          "name": "stdout",
          "output_type": "stream",
          "text": [
            "Epoch 42/45, Loss: 0.0083, Val Loss: 0.0069, Validation R-squared: -0.2273\n"
          ]
        },
        {
          "name": "stderr",
          "output_type": "stream",
          "text": [
            "100%|██████████| 1123/1123 [00:10<00:00, 103.35it/s]\n",
            "100%|██████████| 374/374 [00:01<00:00, 298.30it/s]\n"
          ]
        },
        {
          "name": "stdout",
          "output_type": "stream",
          "text": [
            "Epoch 43/45, Loss: 0.0111, Val Loss: 0.0069, Validation R-squared: -0.2260\n"
          ]
        },
        {
          "name": "stderr",
          "output_type": "stream",
          "text": [
            "100%|██████████| 1123/1123 [00:10<00:00, 106.39it/s]\n",
            "100%|██████████| 374/374 [00:01<00:00, 312.09it/s]\n"
          ]
        },
        {
          "name": "stdout",
          "output_type": "stream",
          "text": [
            "Epoch 44/45, Loss: 0.0050, Val Loss: 0.0069, Validation R-squared: -0.2248\n"
          ]
        },
        {
          "name": "stderr",
          "output_type": "stream",
          "text": [
            "100%|██████████| 1123/1123 [00:10<00:00, 103.99it/s]\n",
            "100%|██████████| 374/374 [00:01<00:00, 308.65it/s]\n"
          ]
        },
        {
          "name": "stdout",
          "output_type": "stream",
          "text": [
            "Epoch 45/45, Loss: 0.0080, Val Loss: 0.0069, Validation R-squared: -0.2237\n",
            "Training finished.\n"
          ]
        }
      ],
      "source": [
        "num_epochs = 45\n",
        "\n",
        "#Storage\n",
        "train_losses = []\n",
        "val_losses = []\n",
        "val_r_squared_values = []\n",
        "\n",
        "#Training\n",
        "for epoch in range(num_epochs):\n",
        "    model.train()\n",
        "    for batch_x, batch_y in tqdm(train_loader):\n",
        "        outputs = model(batch_x)\n",
        "\n",
        "        loss = criterion(outputs, batch_y.unsqueeze(1))\n",
        "\n",
        "        optimizer.zero_grad()\n",
        "        loss.backward()\n",
        "        optimizer.step()\n",
        "\n",
        "\n",
        "    #Validation\n",
        "    model.eval()\n",
        "    val_predictions = []\n",
        "    val_targets = []\n",
        "    val_loss = 0.0\n",
        "    with torch.no_grad():\n",
        "        for val_batch_x, val_batch_y in tqdm(val_loader):\n",
        "            val_outputs = model(val_batch_x)\n",
        "            val_loss += criterion(val_outputs, val_batch_y.unsqueeze(1)).item()\n",
        "\n",
        "            #Validation Set R-squared\n",
        "            val_predictions.extend(val_outputs.numpy())\n",
        "            val_targets.extend(val_batch_y.unsqueeze(1).numpy())\n",
        "\n",
        "    val_loss /= len(val_loader)\n",
        "    val_r_squared = calculate_r_squared(val_targets, val_predictions)\n",
        "\n",
        "    #Storage\n",
        "    train_losses.append(loss.item())\n",
        "    val_losses.append(val_loss)\n",
        "    val_r_squared_values.append(val_r_squared)\n",
        "\n",
        "\n",
        "    print(f'Epoch {epoch+1}/{num_epochs}, Loss: {loss.item():.4f}, Val Loss: {val_loss:.4f}, Validation R-squared: {val_r_squared:.4f}')\n",
        "\n",
        "print('Training finished.')"
      ]
    },
    {
      "cell_type": "code",
      "execution_count": 1112,
      "metadata": {},
      "outputs": [
        {
          "data": {
            "image/png": "[encoded data removed]",
            "text/plain": [
              "<Figure size 1200x600 with 1 Axes>"
            ]
          },
          "metadata": {},
          "output_type": "display_data"
        }
      ],
      "source": [
        "# Plotting\n",
        "epochs = np.arange(1, num_epochs + 1)\n",
        "#Losses\n",
        "plt.figure(figsize=(12, 6))\n",
        "plt.plot(epochs, train_losses, label='Training Loss')\n",
        "plt.plot(epochs, val_losses, label='Validation Loss')\n",
        "plt.xlabel('Epoch')\n",
        "plt.ylabel('Loss')\n",
        "plt.title('Training and Validation Loss Over Epochs')\n",
        "plt.legend()\n",
        "plt.show()"
      ]
    },
    {
      "cell_type": "code",
      "execution_count": 1113,
      "metadata": {},
      "outputs": [
        {
          "data": {
            "image/png": "[encoded data removed]",
            "text/plain": [
              "<Figure size 1200x600 with 1 Axes>"
            ]
          },
          "metadata": {},
          "output_type": "display_data"
        }
      ],
      "source": [
        "#R-squared values\n",
        "plt.figure(figsize=(12, 6))\n",
        "plt.plot(epochs, val_r_squared_values, label='Validation R-squared')\n",
        "plt.xlabel('Epoch')\n",
        "plt.ylabel('R-squared')\n",
        "plt.title('Validation R-squared Over Epochs')\n",
        "plt.legend()\n",
        "plt.show()"
      ]
    },
    {
      "cell_type": "code",
      "execution_count": 1114,
      "metadata": {},
      "outputs": [
        {
          "name": "stdout",
          "output_type": "stream",
          "text": [
            "Test Loss: 0.0107\n",
            "R-squared: -0.0098\n",
            "Training and Testing finished.\n"
          ]
        }
      ],
      "source": [
        "# Testing\n",
        "model.eval()\n",
        "test_loss = 0.0\n",
        "all_predictions = []\n",
        "all_targets = []\n",
        "\n",
        "with torch.no_grad():\n",
        "    for test_batch_x, test_batch_y in test_loader:\n",
        "        test_outputs = model(test_batch_x)\n",
        "        test_batch_y = test_batch_y.view(-1, 1)  # Ensure the target tensor has shape [batch_size, 1]\n",
        "        test_loss += criterion(test_outputs, test_batch_y).item()\n",
        "\n",
        "        all_predictions.extend(test_outputs.numpy())\n",
        "        all_targets.extend(test_batch_y.numpy())\n",
        "\n",
        "test_loss /= len(test_loader)\n",
        "\n",
        "# Calculate R-squared\n",
        "r_squared_MLP2 = calculate_r_squared(all_targets, all_predictions)\n",
        "\n",
        "print(f'Test Loss: {test_loss:.4f}')\n",
        "print(f'R-squared: {r_squared_MLP2:.4f}')\n",
        "\n",
        "print('Training and Testing finished.')"
      ]
    },
    {
      "cell_type": "code",
      "execution_count": 1115,
      "metadata": {},
      "outputs": [
        {
          "data": {
            "text/plain": [
              "Text(0.5, 1.0, 'Actual vs. Predicted Test Set')"
            ]
          },
          "execution_count": 1115,
          "metadata": {},
          "output_type": "execute_result"
        },
        {
          "data": {
            "image/png": "[encoded data removed]",
            "text/plain": [
              "<Figure size 640x480 with 1 Axes>"
            ]
          },
          "metadata": {},
          "output_type": "display_data"
        }
      ],
      "source": [
        "plt.scatter(all_targets, all_predictions)\n",
        "plt.xlabel('Actual Values')\n",
        "plt.ylabel('Predicted Values')\n",
        "plt.title('Actual vs. Predicted Test Set')"
      ]
    },
    {
      "cell_type": "code",
      "execution_count": 1116,
      "metadata": {},
      "outputs": [
        {
          "data": {
            "text/html": [
              "<div>\n",
              "<style scoped>\n",
              "    .dataframe tbody tr th:only-of-type {\n",
              "        vertical-align: middle;\n",
              "    }\n",
              "\n",
              "    .dataframe tbody tr th {\n",
              "        vertical-align: top;\n",
              "    }\n",
              "\n",
              "    .dataframe thead th {\n",
              "        text-align: right;\n",
              "    }\n",
              "</style>\n",
              "<table border=\"1\" class=\"dataframe\">\n",
              "  <thead>\n",
              "    <tr style=\"text-align: right;\">\n",
              "      <th></th>\n",
              "      <th>permno</th>\n",
              "      <th>DATE</th>\n",
              "      <th>RET</th>\n",
              "      <th>pred</th>\n",
              "    </tr>\n",
              "  </thead>\n",
              "  <tbody>\n",
              "    <tr>\n",
              "      <th>0</th>\n",
              "      <td>14593</td>\n",
              "      <td>202112</td>\n",
              "      <td>0.074229</td>\n",
              "      <td>0.036854</td>\n",
              "    </tr>\n",
              "    <tr>\n",
              "      <th>1</th>\n",
              "      <td>14593</td>\n",
              "      <td>202109</td>\n",
              "      <td>-0.068037</td>\n",
              "      <td>0.034304</td>\n",
              "    </tr>\n",
              "    <tr>\n",
              "      <th>2</th>\n",
              "      <td>10107</td>\n",
              "      <td>202111</td>\n",
              "      <td>-0.001236</td>\n",
              "      <td>0.015105</td>\n",
              "    </tr>\n",
              "    <tr>\n",
              "      <th>3</th>\n",
              "      <td>10107</td>\n",
              "      <td>202112</td>\n",
              "      <td>0.017333</td>\n",
              "      <td>0.018004</td>\n",
              "    </tr>\n",
              "    <tr>\n",
              "      <th>4</th>\n",
              "      <td>14593</td>\n",
              "      <td>202111</td>\n",
              "      <td>0.104940</td>\n",
              "      <td>0.033325</td>\n",
              "    </tr>\n",
              "  </tbody>\n",
              "</table>\n",
              "</div>"
            ],
            "text/plain": [
              "   permno    DATE       RET      pred\n",
              "0   14593  202112  0.074229  0.036854\n",
              "1   14593  202109 -0.068037  0.034304\n",
              "2   10107  202111 -0.001236  0.015105\n",
              "3   10107  202112  0.017333  0.018004\n",
              "4   14593  202111  0.104940  0.033325"
            ]
          },
          "execution_count": 1116,
          "metadata": {},
          "output_type": "execute_result"
        }
      ],
      "source": [
        "#Export out\n",
        "predictions = [item for sublist in all_predictions for item in sublist]\n",
        "output_mlp2 = output.copy()\n",
        "output_mlp2['pred'] = predictions\n",
        "output_mlp2.to_csv('output_mlp2.csv', index=False)\n",
        "output_mlp2.head()"
      ]
    },
    {
      "cell_type": "markdown",
      "metadata": {},
      "source": [
        "## MLP with 3 hidden layers"
      ]
    },
    {
      "cell_type": "code",
      "execution_count": 1117,
      "metadata": {},
      "outputs": [],
      "source": [
        "#Best results: three leakys and a single sigmoid with a 0.5 shift. \n",
        "#MLP with 3 hidden layers\n",
        "class MLP3(nn.Module):\n",
        "    def __init__(self, input_size, hidden_size1, hidden_size2, hidden_size3, output_size):\n",
        "        super(MLP3, self).__init__()\n",
        "        \n",
        "        #Create fully connected layers\n",
        "        self.fc1 = nn.Linear(input_size, hidden_size1)\n",
        "        self.fc2 = nn.Linear(hidden_size1, hidden_size2)\n",
        "        self.fc3 = nn.Linear(hidden_size2, hidden_size3)\n",
        "        self.fc4 = nn.Linear(hidden_size3, output_size)\n",
        "\n",
        "        #Batch Normalization\n",
        "        #self.bn1 = nn.BatchNorm1d(hidden_size1)\n",
        "        #self.bn2 = nn.BatchNorm1d(hidden_size2)\n",
        "        #self.bn3 = nn.BatchNorm1d(hidden_size3)\n",
        "\n",
        "    def forward(self, x):\n",
        "        x = x.view(-1, number_of_features)\n",
        "        #x = F.leaky_relu(self.fc1(x), negative_slope=0.1)\n",
        "        #x = F.leaky_relu(self.fc2(x), negative_slope=0.1)\n",
        "        #x = F.leaky_relu(self.fc3(x), negative_slope=0.1)\n",
        "        x = F.relu(self.fc1(x))\n",
        "        x = F.relu(self.fc2(x))\n",
        "        x = F.relu(self.fc3(x))\n",
        "\n",
        "        #x = self.fc4(x)\n",
        "        #x = torch.sigmoid(self.fc4(x)) - 0.5\n",
        "        x = torch.tanh(self.fc4(x))\n",
        "        return x"
      ]
    },
    {
      "cell_type": "code",
      "execution_count": 1118,
      "metadata": {},
      "outputs": [
        {
          "name": "stdout",
          "output_type": "stream",
          "text": [
            "Input Size: 911\n"
          ]
        }
      ],
      "source": [
        "# Adjust input_size based on the number of features in your input data\n",
        "input_size = number_of_features\n",
        "print(f'Input Size: {input_size}')\n",
        "hidden_size1, hidden_size2, hidden_size3 = 32, 16, 8\n",
        "output_size = 1  # For regression\n",
        "learning_rate = 0.00000001\n",
        "\n",
        "model = MLP3(input_size, hidden_size1, hidden_size2, hidden_size3, output_size) \n",
        "optimizer = optim.Adam(model.parameters(), lr=learning_rate)\n",
        "\n",
        "# R-squared function\n",
        "def calculate_r_squared(y_true, y_pred):\n",
        "    return r2_score(y_true, y_pred)"
      ]
    },
    {
      "cell_type": "code",
      "execution_count": 1119,
      "metadata": {},
      "outputs": [
        {
          "name": "stderr",
          "output_type": "stream",
          "text": [
            "100%|██████████| 1123/1123 [00:12<00:00, 91.53it/s]\n",
            "100%|██████████| 374/374 [00:01<00:00, 292.11it/s]\n"
          ]
        },
        {
          "name": "stdout",
          "output_type": "stream",
          "text": [
            "Epoch 1/50, Loss: 0.0161, Val Loss: 0.0113, Validation R-squared: -1.0034\n"
          ]
        },
        {
          "name": "stderr",
          "output_type": "stream",
          "text": [
            "100%|██████████| 1123/1123 [00:11<00:00, 94.90it/s]\n",
            "100%|██████████| 374/374 [00:01<00:00, 289.59it/s]\n"
          ]
        },
        {
          "name": "stdout",
          "output_type": "stream",
          "text": [
            "Epoch 2/50, Loss: 0.0304, Val Loss: 0.0112, Validation R-squared: -0.9945\n"
          ]
        },
        {
          "name": "stderr",
          "output_type": "stream",
          "text": [
            "100%|██████████| 1123/1123 [00:11<00:00, 94.14it/s]\n",
            "100%|██████████| 374/374 [00:01<00:00, 277.94it/s]\n"
          ]
        },
        {
          "name": "stdout",
          "output_type": "stream",
          "text": [
            "Epoch 3/50, Loss: 0.0122, Val Loss: 0.0112, Validation R-squared: -0.9856\n"
          ]
        },
        {
          "name": "stderr",
          "output_type": "stream",
          "text": [
            "100%|██████████| 1123/1123 [00:11<00:00, 94.93it/s]\n",
            "100%|██████████| 374/374 [00:01<00:00, 259.21it/s]\n"
          ]
        },
        {
          "name": "stdout",
          "output_type": "stream",
          "text": [
            "Epoch 4/50, Loss: 0.0083, Val Loss: 0.0111, Validation R-squared: -0.9770\n"
          ]
        },
        {
          "name": "stderr",
          "output_type": "stream",
          "text": [
            "100%|██████████| 1123/1123 [00:11<00:00, 96.40it/s] \n",
            "100%|██████████| 374/374 [00:01<00:00, 323.53it/s]\n"
          ]
        },
        {
          "name": "stdout",
          "output_type": "stream",
          "text": [
            "Epoch 5/50, Loss: 0.0137, Val Loss: 0.0111, Validation R-squared: -0.9687\n"
          ]
        },
        {
          "name": "stderr",
          "output_type": "stream",
          "text": [
            "100%|██████████| 1123/1123 [00:11<00:00, 94.42it/s]\n",
            "100%|██████████| 374/374 [00:01<00:00, 283.19it/s]\n"
          ]
        },
        {
          "name": "stdout",
          "output_type": "stream",
          "text": [
            "Epoch 6/50, Loss: 0.0167, Val Loss: 0.0110, Validation R-squared: -0.9606\n"
          ]
        },
        {
          "name": "stderr",
          "output_type": "stream",
          "text": [
            "100%|██████████| 1123/1123 [00:11<00:00, 96.52it/s]\n",
            "100%|██████████| 374/374 [00:01<00:00, 302.01it/s]\n"
          ]
        },
        {
          "name": "stdout",
          "output_type": "stream",
          "text": [
            "Epoch 7/50, Loss: 0.0074, Val Loss: 0.0110, Validation R-squared: -0.9528\n"
          ]
        },
        {
          "name": "stderr",
          "output_type": "stream",
          "text": [
            "100%|██████████| 1123/1123 [00:11<00:00, 94.96it/s]\n",
            "100%|██████████| 374/374 [00:01<00:00, 294.02it/s]\n"
          ]
        },
        {
          "name": "stdout",
          "output_type": "stream",
          "text": [
            "Epoch 8/50, Loss: 0.0150, Val Loss: 0.0109, Validation R-squared: -0.9455\n"
          ]
        },
        {
          "name": "stderr",
          "output_type": "stream",
          "text": [
            "100%|██████████| 1123/1123 [00:11<00:00, 95.11it/s]\n",
            "100%|██████████| 374/374 [00:01<00:00, 290.60it/s]\n"
          ]
        },
        {
          "name": "stdout",
          "output_type": "stream",
          "text": [
            "Epoch 9/50, Loss: 0.0143, Val Loss: 0.0109, Validation R-squared: -0.9385\n"
          ]
        },
        {
          "name": "stderr",
          "output_type": "stream",
          "text": [
            "100%|██████████| 1123/1123 [00:11<00:00, 94.97it/s]\n",
            "100%|██████████| 374/374 [00:01<00:00, 297.65it/s]\n"
          ]
        },
        {
          "name": "stdout",
          "output_type": "stream",
          "text": [
            "Epoch 10/50, Loss: 0.0132, Val Loss: 0.0109, Validation R-squared: -0.9320\n"
          ]
        },
        {
          "name": "stderr",
          "output_type": "stream",
          "text": [
            "100%|██████████| 1123/1123 [00:11<00:00, 94.32it/s]\n",
            "100%|██████████| 374/374 [00:01<00:00, 289.85it/s]\n"
          ]
        },
        {
          "name": "stdout",
          "output_type": "stream",
          "text": [
            "Epoch 11/50, Loss: 0.0100, Val Loss: 0.0108, Validation R-squared: -0.9259\n"
          ]
        },
        {
          "name": "stderr",
          "output_type": "stream",
          "text": [
            "100%|██████████| 1123/1123 [00:11<00:00, 95.60it/s]\n",
            "100%|██████████| 374/374 [00:01<00:00, 292.05it/s]\n"
          ]
        },
        {
          "name": "stdout",
          "output_type": "stream",
          "text": [
            "Epoch 12/50, Loss: 0.0272, Val Loss: 0.0108, Validation R-squared: -0.9201\n"
          ]
        },
        {
          "name": "stderr",
          "output_type": "stream",
          "text": [
            "100%|██████████| 1123/1123 [00:11<00:00, 95.11it/s]\n",
            "100%|██████████| 374/374 [00:01<00:00, 284.31it/s]\n"
          ]
        },
        {
          "name": "stdout",
          "output_type": "stream",
          "text": [
            "Epoch 13/50, Loss: 0.0094, Val Loss: 0.0108, Validation R-squared: -0.9146\n"
          ]
        },
        {
          "name": "stderr",
          "output_type": "stream",
          "text": [
            "100%|██████████| 1123/1123 [00:11<00:00, 95.97it/s] \n",
            "100%|██████████| 374/374 [00:01<00:00, 288.02it/s]\n"
          ]
        },
        {
          "name": "stdout",
          "output_type": "stream",
          "text": [
            "Epoch 14/50, Loss: 0.0124, Val Loss: 0.0107, Validation R-squared: -0.9095\n"
          ]
        },
        {
          "name": "stderr",
          "output_type": "stream",
          "text": [
            "100%|██████████| 1123/1123 [00:11<00:00, 98.11it/s]\n",
            "100%|██████████| 374/374 [00:01<00:00, 294.24it/s]\n"
          ]
        },
        {
          "name": "stdout",
          "output_type": "stream",
          "text": [
            "Epoch 15/50, Loss: 0.0089, Val Loss: 0.0107, Validation R-squared: -0.9046\n"
          ]
        },
        {
          "name": "stderr",
          "output_type": "stream",
          "text": [
            "100%|██████████| 1123/1123 [00:11<00:00, 95.10it/s] \n",
            "100%|██████████| 374/374 [00:01<00:00, 291.52it/s]\n"
          ]
        },
        {
          "name": "stdout",
          "output_type": "stream",
          "text": [
            "Epoch 16/50, Loss: 0.0119, Val Loss: 0.0107, Validation R-squared: -0.8998\n"
          ]
        },
        {
          "name": "stderr",
          "output_type": "stream",
          "text": [
            "100%|██████████| 1123/1123 [00:11<00:00, 93.93it/s]\n",
            "100%|██████████| 374/374 [00:01<00:00, 286.90it/s]\n"
          ]
        },
        {
          "name": "stdout",
          "output_type": "stream",
          "text": [
            "Epoch 17/50, Loss: 0.0095, Val Loss: 0.0106, Validation R-squared: -0.8953\n"
          ]
        },
        {
          "name": "stderr",
          "output_type": "stream",
          "text": [
            "100%|██████████| 1123/1123 [00:11<00:00, 95.42it/s]\n",
            "100%|██████████| 374/374 [00:01<00:00, 289.79it/s]\n"
          ]
        },
        {
          "name": "stdout",
          "output_type": "stream",
          "text": [
            "Epoch 18/50, Loss: 0.0202, Val Loss: 0.0106, Validation R-squared: -0.8908\n"
          ]
        },
        {
          "name": "stderr",
          "output_type": "stream",
          "text": [
            "100%|██████████| 1123/1123 [00:11<00:00, 97.13it/s] \n",
            "100%|██████████| 374/374 [00:01<00:00, 319.22it/s]\n"
          ]
        },
        {
          "name": "stdout",
          "output_type": "stream",
          "text": [
            "Epoch 19/50, Loss: 0.0080, Val Loss: 0.0106, Validation R-squared: -0.8865\n"
          ]
        },
        {
          "name": "stderr",
          "output_type": "stream",
          "text": [
            "100%|██████████| 1123/1123 [00:11<00:00, 95.36it/s]\n",
            "100%|██████████| 374/374 [00:01<00:00, 256.93it/s]\n"
          ]
        },
        {
          "name": "stdout",
          "output_type": "stream",
          "text": [
            "Epoch 20/50, Loss: 0.0139, Val Loss: 0.0106, Validation R-squared: -0.8823\n"
          ]
        },
        {
          "name": "stderr",
          "output_type": "stream",
          "text": [
            "100%|██████████| 1123/1123 [00:11<00:00, 95.05it/s]\n",
            "100%|██████████| 374/374 [00:01<00:00, 288.09it/s]\n"
          ]
        },
        {
          "name": "stdout",
          "output_type": "stream",
          "text": [
            "Epoch 21/50, Loss: 0.0139, Val Loss: 0.0105, Validation R-squared: -0.8781\n"
          ]
        },
        {
          "name": "stderr",
          "output_type": "stream",
          "text": [
            "100%|██████████| 1123/1123 [00:11<00:00, 94.69it/s]\n",
            "100%|██████████| 374/374 [00:01<00:00, 283.36it/s]\n"
          ]
        },
        {
          "name": "stdout",
          "output_type": "stream",
          "text": [
            "Epoch 22/50, Loss: 0.0169, Val Loss: 0.0105, Validation R-squared: -0.8740\n"
          ]
        },
        {
          "name": "stderr",
          "output_type": "stream",
          "text": [
            "100%|██████████| 1123/1123 [00:11<00:00, 95.54it/s]\n",
            "100%|██████████| 374/374 [00:01<00:00, 289.54it/s]\n"
          ]
        },
        {
          "name": "stdout",
          "output_type": "stream",
          "text": [
            "Epoch 23/50, Loss: 0.0104, Val Loss: 0.0105, Validation R-squared: -0.8700\n"
          ]
        },
        {
          "name": "stderr",
          "output_type": "stream",
          "text": [
            "100%|██████████| 1123/1123 [00:11<00:00, 93.76it/s]\n",
            "100%|██████████| 374/374 [00:01<00:00, 288.91it/s]\n"
          ]
        },
        {
          "name": "stdout",
          "output_type": "stream",
          "text": [
            "Epoch 24/50, Loss: 0.0131, Val Loss: 0.0105, Validation R-squared: -0.8660\n"
          ]
        },
        {
          "name": "stderr",
          "output_type": "stream",
          "text": [
            "100%|██████████| 1123/1123 [00:11<00:00, 93.93it/s]\n",
            "100%|██████████| 374/374 [00:01<00:00, 296.43it/s]\n"
          ]
        },
        {
          "name": "stdout",
          "output_type": "stream",
          "text": [
            "Epoch 25/50, Loss: 0.0115, Val Loss: 0.0105, Validation R-squared: -0.8621\n"
          ]
        },
        {
          "name": "stderr",
          "output_type": "stream",
          "text": [
            "100%|██████████| 1123/1123 [00:11<00:00, 95.16it/s]\n",
            "100%|██████████| 374/374 [00:01<00:00, 293.28it/s]\n"
          ]
        },
        {
          "name": "stdout",
          "output_type": "stream",
          "text": [
            "Epoch 26/50, Loss: 0.0123, Val Loss: 0.0104, Validation R-squared: -0.8583\n"
          ]
        },
        {
          "name": "stderr",
          "output_type": "stream",
          "text": [
            "100%|██████████| 1123/1123 [00:11<00:00, 94.57it/s]\n",
            "100%|██████████| 374/374 [00:01<00:00, 291.92it/s]\n"
          ]
        },
        {
          "name": "stdout",
          "output_type": "stream",
          "text": [
            "Epoch 27/50, Loss: 0.0091, Val Loss: 0.0104, Validation R-squared: -0.8546\n"
          ]
        },
        {
          "name": "stderr",
          "output_type": "stream",
          "text": [
            "100%|██████████| 1123/1123 [00:11<00:00, 95.00it/s] \n",
            "100%|██████████| 374/374 [00:01<00:00, 259.48it/s]\n"
          ]
        },
        {
          "name": "stdout",
          "output_type": "stream",
          "text": [
            "Epoch 28/50, Loss: 0.0101, Val Loss: 0.0104, Validation R-squared: -0.8509\n"
          ]
        },
        {
          "name": "stderr",
          "output_type": "stream",
          "text": [
            "100%|██████████| 1123/1123 [00:11<00:00, 95.18it/s]\n",
            "100%|██████████| 374/374 [00:01<00:00, 294.31it/s]\n"
          ]
        },
        {
          "name": "stdout",
          "output_type": "stream",
          "text": [
            "Epoch 29/50, Loss: 0.0120, Val Loss: 0.0104, Validation R-squared: -0.8472\n"
          ]
        },
        {
          "name": "stderr",
          "output_type": "stream",
          "text": [
            "100%|██████████| 1123/1123 [00:11<00:00, 94.31it/s]\n",
            "100%|██████████| 374/374 [00:01<00:00, 290.96it/s]\n"
          ]
        },
        {
          "name": "stdout",
          "output_type": "stream",
          "text": [
            "Epoch 30/50, Loss: 0.0111, Val Loss: 0.0104, Validation R-squared: -0.8436\n"
          ]
        },
        {
          "name": "stderr",
          "output_type": "stream",
          "text": [
            "100%|██████████| 1123/1123 [00:11<00:00, 95.73it/s]\n",
            "100%|██████████| 374/374 [00:01<00:00, 287.58it/s]\n"
          ]
        },
        {
          "name": "stdout",
          "output_type": "stream",
          "text": [
            "Epoch 31/50, Loss: 0.0090, Val Loss: 0.0103, Validation R-squared: -0.8400\n"
          ]
        },
        {
          "name": "stderr",
          "output_type": "stream",
          "text": [
            "100%|██████████| 1123/1123 [00:11<00:00, 96.51it/s] \n",
            "100%|██████████| 374/374 [00:01<00:00, 304.36it/s]\n"
          ]
        },
        {
          "name": "stdout",
          "output_type": "stream",
          "text": [
            "Epoch 32/50, Loss: 0.0138, Val Loss: 0.0103, Validation R-squared: -0.8363\n"
          ]
        },
        {
          "name": "stderr",
          "output_type": "stream",
          "text": [
            "100%|██████████| 1123/1123 [00:11<00:00, 94.25it/s] \n",
            "100%|██████████| 374/374 [00:01<00:00, 292.60it/s]\n"
          ]
        },
        {
          "name": "stdout",
          "output_type": "stream",
          "text": [
            "Epoch 33/50, Loss: 0.0088, Val Loss: 0.0103, Validation R-squared: -0.8328\n"
          ]
        },
        {
          "name": "stderr",
          "output_type": "stream",
          "text": [
            "100%|██████████| 1123/1123 [00:11<00:00, 97.49it/s] \n",
            "100%|██████████| 374/374 [00:01<00:00, 295.36it/s]\n"
          ]
        },
        {
          "name": "stdout",
          "output_type": "stream",
          "text": [
            "Epoch 34/50, Loss: 0.0114, Val Loss: 0.0103, Validation R-squared: -0.8292\n"
          ]
        },
        {
          "name": "stderr",
          "output_type": "stream",
          "text": [
            "100%|██████████| 1123/1123 [00:11<00:00, 97.50it/s] \n",
            "100%|██████████| 374/374 [00:01<00:00, 301.69it/s]\n"
          ]
        },
        {
          "name": "stdout",
          "output_type": "stream",
          "text": [
            "Epoch 35/50, Loss: 0.0082, Val Loss: 0.0103, Validation R-squared: -0.8256\n"
          ]
        },
        {
          "name": "stderr",
          "output_type": "stream",
          "text": [
            "100%|██████████| 1123/1123 [00:11<00:00, 98.43it/s] \n",
            "100%|██████████| 374/374 [00:01<00:00, 276.06it/s]\n"
          ]
        },
        {
          "name": "stdout",
          "output_type": "stream",
          "text": [
            "Epoch 36/50, Loss: 0.0121, Val Loss: 0.0102, Validation R-squared: -0.8220\n"
          ]
        },
        {
          "name": "stderr",
          "output_type": "stream",
          "text": [
            "100%|██████████| 1123/1123 [00:11<00:00, 97.63it/s] \n",
            "100%|██████████| 374/374 [00:01<00:00, 306.67it/s]\n"
          ]
        },
        {
          "name": "stdout",
          "output_type": "stream",
          "text": [
            "Epoch 37/50, Loss: 0.0113, Val Loss: 0.0102, Validation R-squared: -0.8185\n"
          ]
        },
        {
          "name": "stderr",
          "output_type": "stream",
          "text": [
            "100%|██████████| 1123/1123 [00:11<00:00, 96.83it/s]\n",
            "100%|██████████| 374/374 [00:01<00:00, 307.75it/s]\n"
          ]
        },
        {
          "name": "stdout",
          "output_type": "stream",
          "text": [
            "Epoch 38/50, Loss: 0.0132, Val Loss: 0.0102, Validation R-squared: -0.8150\n"
          ]
        },
        {
          "name": "stderr",
          "output_type": "stream",
          "text": [
            "100%|██████████| 1123/1123 [00:11<00:00, 95.28it/s]\n",
            "100%|██████████| 374/374 [00:01<00:00, 274.39it/s]\n"
          ]
        },
        {
          "name": "stdout",
          "output_type": "stream",
          "text": [
            "Epoch 39/50, Loss: 0.0102, Val Loss: 0.0102, Validation R-squared: -0.8115\n"
          ]
        },
        {
          "name": "stderr",
          "output_type": "stream",
          "text": [
            "100%|██████████| 1123/1123 [00:10<00:00, 105.23it/s]\n",
            "100%|██████████| 374/374 [00:01<00:00, 296.92it/s]\n"
          ]
        },
        {
          "name": "stdout",
          "output_type": "stream",
          "text": [
            "Epoch 40/50, Loss: 0.0090, Val Loss: 0.0102, Validation R-squared: -0.8081\n"
          ]
        },
        {
          "name": "stderr",
          "output_type": "stream",
          "text": [
            "100%|██████████| 1123/1123 [00:12<00:00, 93.46it/s]\n",
            "100%|██████████| 374/374 [00:01<00:00, 298.17it/s]\n"
          ]
        },
        {
          "name": "stdout",
          "output_type": "stream",
          "text": [
            "Epoch 41/50, Loss: 0.0119, Val Loss: 0.0101, Validation R-squared: -0.8047\n"
          ]
        },
        {
          "name": "stderr",
          "output_type": "stream",
          "text": [
            "100%|██████████| 1123/1123 [00:11<00:00, 95.56it/s] \n",
            "100%|██████████| 374/374 [00:01<00:00, 311.24it/s]\n"
          ]
        },
        {
          "name": "stdout",
          "output_type": "stream",
          "text": [
            "Epoch 42/50, Loss: 0.0074, Val Loss: 0.0101, Validation R-squared: -0.8014\n"
          ]
        },
        {
          "name": "stderr",
          "output_type": "stream",
          "text": [
            "100%|██████████| 1123/1123 [00:11<00:00, 95.02it/s]\n",
            "100%|██████████| 374/374 [00:01<00:00, 331.34it/s]\n"
          ]
        },
        {
          "name": "stdout",
          "output_type": "stream",
          "text": [
            "Epoch 43/50, Loss: 0.0094, Val Loss: 0.0101, Validation R-squared: -0.7981\n"
          ]
        },
        {
          "name": "stderr",
          "output_type": "stream",
          "text": [
            "100%|██████████| 1123/1123 [00:11<00:00, 97.18it/s]\n",
            "100%|██████████| 374/374 [00:01<00:00, 286.09it/s]\n"
          ]
        },
        {
          "name": "stdout",
          "output_type": "stream",
          "text": [
            "Epoch 44/50, Loss: 0.0115, Val Loss: 0.0101, Validation R-squared: -0.7949\n"
          ]
        },
        {
          "name": "stderr",
          "output_type": "stream",
          "text": [
            "100%|██████████| 1123/1123 [00:11<00:00, 95.90it/s] \n",
            "100%|██████████| 374/374 [00:01<00:00, 293.83it/s]\n"
          ]
        },
        {
          "name": "stdout",
          "output_type": "stream",
          "text": [
            "Epoch 45/50, Loss: 0.0185, Val Loss: 0.0101, Validation R-squared: -0.7918\n"
          ]
        },
        {
          "name": "stderr",
          "output_type": "stream",
          "text": [
            "100%|██████████| 1123/1123 [00:11<00:00, 94.38it/s]\n",
            "100%|██████████| 374/374 [00:01<00:00, 282.80it/s]\n"
          ]
        },
        {
          "name": "stdout",
          "output_type": "stream",
          "text": [
            "Epoch 46/50, Loss: 0.0101, Val Loss: 0.0100, Validation R-squared: -0.7887\n"
          ]
        },
        {
          "name": "stderr",
          "output_type": "stream",
          "text": [
            "100%|██████████| 1123/1123 [00:11<00:00, 96.96it/s] \n",
            "100%|██████████| 374/374 [00:01<00:00, 305.00it/s]\n"
          ]
        },
        {
          "name": "stdout",
          "output_type": "stream",
          "text": [
            "Epoch 47/50, Loss: 0.0115, Val Loss: 0.0100, Validation R-squared: -0.7856\n"
          ]
        },
        {
          "name": "stderr",
          "output_type": "stream",
          "text": [
            "100%|██████████| 1123/1123 [00:11<00:00, 95.58it/s] \n",
            "100%|██████████| 374/374 [00:01<00:00, 294.39it/s]\n"
          ]
        },
        {
          "name": "stdout",
          "output_type": "stream",
          "text": [
            "Epoch 48/50, Loss: 0.0039, Val Loss: 0.0100, Validation R-squared: -0.7827\n"
          ]
        },
        {
          "name": "stderr",
          "output_type": "stream",
          "text": [
            "100%|██████████| 1123/1123 [00:11<00:00, 94.61it/s]\n",
            "100%|██████████| 374/374 [00:01<00:00, 295.35it/s]\n"
          ]
        },
        {
          "name": "stdout",
          "output_type": "stream",
          "text": [
            "Epoch 49/50, Loss: 0.0119, Val Loss: 0.0100, Validation R-squared: -0.7797\n"
          ]
        },
        {
          "name": "stderr",
          "output_type": "stream",
          "text": [
            "100%|██████████| 1123/1123 [00:11<00:00, 95.87it/s]\n",
            "100%|██████████| 374/374 [00:01<00:00, 287.03it/s]\n"
          ]
        },
        {
          "name": "stdout",
          "output_type": "stream",
          "text": [
            "Epoch 50/50, Loss: 0.0110, Val Loss: 0.0100, Validation R-squared: -0.7768\n",
            "Training finished.\n"
          ]
        }
      ],
      "source": [
        "#Epochs\n",
        "num_epochs = 50\n",
        "\n",
        "#Storage\n",
        "train_losses = []\n",
        "val_losses = []\n",
        "val_r_squared_values = []\n",
        "\n",
        "#Training\n",
        "for epoch in range(num_epochs):\n",
        "    model.train()\n",
        "    for batch_x, batch_y in tqdm(train_loader):\n",
        "        outputs = model(batch_x)\n",
        "\n",
        "        loss = criterion(outputs, batch_y.unsqueeze(1))\n",
        "\n",
        "        optimizer.zero_grad()\n",
        "        loss.backward()\n",
        "        optimizer.step()\n",
        "\n",
        "\n",
        "    #Validation\n",
        "    model.eval()\n",
        "    val_predictions = []\n",
        "    val_targets = []\n",
        "    val_loss = 0.0\n",
        "    with torch.no_grad():\n",
        "        for val_batch_x, val_batch_y in tqdm(val_loader):\n",
        "            val_outputs = model(val_batch_x)\n",
        "            val_loss += criterion(val_outputs, val_batch_y.unsqueeze(1)).item()\n",
        "\n",
        "            #Validation Set R-squared\n",
        "            val_predictions.extend(val_outputs.numpy())\n",
        "            val_targets.extend(val_batch_y.unsqueeze(1).numpy())\n",
        "\n",
        "    val_loss /= len(val_loader)\n",
        "    val_r_squared = calculate_r_squared(val_targets, val_predictions)\n",
        "\n",
        "    #Storage\n",
        "    train_losses.append(loss.item())\n",
        "    val_losses.append(val_loss)\n",
        "    val_r_squared_values.append(val_r_squared)\n",
        "\n",
        "    \n",
        "    \n",
        "    print(f'Epoch {epoch+1}/{num_epochs}, Loss: {loss.item():.4f}, Val Loss: {val_loss:.4f}, Validation R-squared: {val_r_squared:.4f}')\n",
        "\n",
        "print('Training finished.')\n"
      ]
    },
    {
      "cell_type": "code",
      "execution_count": 1120,
      "metadata": {},
      "outputs": [
        {
          "data": {
            "image/png": "[encoded data removed]",
            "text/plain": [
              "<Figure size 1200x600 with 1 Axes>"
            ]
          },
          "metadata": {},
          "output_type": "display_data"
        }
      ],
      "source": [
        "# Plotting\n",
        "epochs = np.arange(1, num_epochs + 1)\n",
        "#Losses\n",
        "plt.figure(figsize=(12, 6))\n",
        "plt.plot(epochs, train_losses, label='Training Loss')\n",
        "plt.plot(epochs, val_losses, label='Validation Loss')\n",
        "plt.xlabel('Epoch')\n",
        "plt.ylabel('Loss')\n",
        "plt.title('Training and Validation Loss Over Epochs')\n",
        "plt.legend()\n",
        "plt.show()"
      ]
    },
    {
      "cell_type": "code",
      "execution_count": 1121,
      "metadata": {},
      "outputs": [
        {
          "data": {
            "image/png": "[encoded data removed]",
            "text/plain": [
              "<Figure size 1200x600 with 1 Axes>"
            ]
          },
          "metadata": {},
          "output_type": "display_data"
        }
      ],
      "source": [
        "#R-squared values\n",
        "plt.figure(figsize=(12, 6))\n",
        "plt.plot(epochs, val_r_squared_values, label='Validation R-squared')\n",
        "plt.xlabel('Epoch')\n",
        "plt.ylabel('R-squared')\n",
        "plt.title('Validation R-squared Over Epochs')\n",
        "plt.legend()\n",
        "plt.show()"
      ]
    },
    {
      "cell_type": "code",
      "execution_count": 1122,
      "metadata": {},
      "outputs": [
        {
          "name": "stdout",
          "output_type": "stream",
          "text": [
            "Test Loss: 0.0150\n",
            "R-squared: -0.4212\n",
            "Training and Testing finished.\n"
          ]
        }
      ],
      "source": [
        "# Testing\n",
        "model.eval()\n",
        "test_loss = 0.0\n",
        "all_predictions = []\n",
        "all_targets = []\n",
        "\n",
        "with torch.no_grad():\n",
        "    for test_batch_x, test_batch_y in test_loader:\n",
        "        test_outputs = model(test_batch_x)\n",
        "        test_batch_y = test_batch_y.view(-1, 1)  # Ensure the target tensor has shape [batch_size, 1]\n",
        "        test_loss += criterion(test_outputs, test_batch_y).item()\n",
        "\n",
        "        all_predictions.extend(test_outputs.numpy())\n",
        "        all_targets.extend(test_batch_y.numpy())\n",
        "\n",
        "test_loss /= len(test_loader)\n",
        "\n",
        "# Calculate R-squared\n",
        "r_squared_MLP3 = calculate_r_squared(all_targets, all_predictions)\n",
        "\n",
        "print(f'Test Loss: {test_loss:.4f}')\n",
        "print(f'R-squared: {r_squared_MLP3:.4f}')\n",
        "\n",
        "print('Training and Testing finished.')"
      ]
    },
    {
      "cell_type": "code",
      "execution_count": 1123,
      "metadata": {},
      "outputs": [
        {
          "data": {
            "text/plain": [
              "Text(0.5, 1.0, 'Actual vs. Predicted Test Set')"
            ]
          },
          "execution_count": 1123,
          "metadata": {},
          "output_type": "execute_result"
        },
        {
          "data": {
            "image/png": "[encoded data removed]",
            "text/plain": [
              "<Figure size 640x480 with 1 Axes>"
            ]
          },
          "metadata": {},
          "output_type": "display_data"
        }
      ],
      "source": [
        "plt.scatter(all_targets, all_predictions)\n",
        "plt.xlabel('Actual Values')\n",
        "plt.ylabel('Predicted Values')\n",
        "plt.title('Actual vs. Predicted Test Set')"
      ]
    },
    {
      "cell_type": "code",
      "execution_count": 1124,
      "metadata": {},
      "outputs": [
        {
          "data": {
            "text/html": [
              "<div>\n",
              "<style scoped>\n",
              "    .dataframe tbody tr th:only-of-type {\n",
              "        vertical-align: middle;\n",
              "    }\n",
              "\n",
              "    .dataframe tbody tr th {\n",
              "        vertical-align: top;\n",
              "    }\n",
              "\n",
              "    .dataframe thead th {\n",
              "        text-align: right;\n",
              "    }\n",
              "</style>\n",
              "<table border=\"1\" class=\"dataframe\">\n",
              "  <thead>\n",
              "    <tr style=\"text-align: right;\">\n",
              "      <th></th>\n",
              "      <th>permno</th>\n",
              "      <th>DATE</th>\n",
              "      <th>RET</th>\n",
              "      <th>pred</th>\n",
              "    </tr>\n",
              "  </thead>\n",
              "  <tbody>\n",
              "    <tr>\n",
              "      <th>0</th>\n",
              "      <td>14593</td>\n",
              "      <td>202112</td>\n",
              "      <td>0.074229</td>\n",
              "      <td>0.081378</td>\n",
              "    </tr>\n",
              "    <tr>\n",
              "      <th>1</th>\n",
              "      <td>14593</td>\n",
              "      <td>202109</td>\n",
              "      <td>-0.068037</td>\n",
              "      <td>0.081815</td>\n",
              "    </tr>\n",
              "    <tr>\n",
              "      <th>2</th>\n",
              "      <td>10107</td>\n",
              "      <td>202111</td>\n",
              "      <td>-0.001236</td>\n",
              "      <td>0.078306</td>\n",
              "    </tr>\n",
              "    <tr>\n",
              "      <th>3</th>\n",
              "      <td>10107</td>\n",
              "      <td>202112</td>\n",
              "      <td>0.017333</td>\n",
              "      <td>0.078301</td>\n",
              "    </tr>\n",
              "    <tr>\n",
              "      <th>4</th>\n",
              "      <td>14593</td>\n",
              "      <td>202111</td>\n",
              "      <td>0.104940</td>\n",
              "      <td>0.081539</td>\n",
              "    </tr>\n",
              "  </tbody>\n",
              "</table>\n",
              "</div>"
            ],
            "text/plain": [
              "   permno    DATE       RET      pred\n",
              "0   14593  202112  0.074229  0.081378\n",
              "1   14593  202109 -0.068037  0.081815\n",
              "2   10107  202111 -0.001236  0.078306\n",
              "3   10107  202112  0.017333  0.078301\n",
              "4   14593  202111  0.104940  0.081539"
            ]
          },
          "execution_count": 1124,
          "metadata": {},
          "output_type": "execute_result"
        }
      ],
      "source": [
        "#Export out\n",
        "predictions = [item for sublist in all_predictions for item in sublist]\n",
        "output_mlp3 = output.copy()\n",
        "output_mlp3['pred'] = predictions\n",
        "output_mlp3.to_csv('output_mlp3.csv', index=False)\n",
        "output_mlp3.head()"
      ]
    },
    {
      "cell_type": "markdown",
      "metadata": {},
      "source": [
        "## Summary"
      ]
    },
    {
      "cell_type": "code",
      "execution_count": 1125,
      "metadata": {},
      "outputs": [
        {
          "name": "stdout",
          "output_type": "stream",
          "text": [
            "MLP w/ 1 Hidden Layer R-squared: -4.8502\n",
            "MLP w/ 2 Hidden Layers R-squared: -0.0098\n",
            "MLP w/ 3 Hidden Layers R-squared: -0.4212\n"
          ]
        }
      ],
      "source": [
        "print(f'MLP w/ 1 Hidden Layer R-squared: {r_squared_MLP1:.4f}')\n",
        "print(f'MLP w/ 2 Hidden Layers R-squared: {r_squared_MLP2:.4f}')\n",
        "print(f'MLP w/ 3 Hidden Layers R-squared: {r_squared_MLP3:.4f}')"
      ]
    },
    {
      "cell_type": "code",
      "execution_count": 1126,
      "metadata": {},
      "outputs": [
        {
          "data": {
            "image/png": "[encoded data removed]",
            "text/plain": [
              "<Figure size 1200x600 with 2 Axes>"
            ]
          },
          "metadata": {},
          "output_type": "display_data"
        }
      ],
      "source": [
        "fig, axes = plt.subplots(nrows=1, ncols=2, figsize=(12, 6))\n",
        "axes[0].hist(output_mlp3['RET'], bins='auto')\n",
        "axes[0].set_title('Histogram for RET (target)')\n",
        "axes[1].hist(output_mlp3['pred'], bins='auto')\n",
        "axes[1].set_title('Histogram for Predictions')\n",
        "plt.show()"
      ]
    }
  ],
  "metadata": {
    "colab": {
      "provenance": []
    },
    "kernelspec": {
      "display_name": "Python 3",
      "name": "python3"
    },
    "language_info": {
      "codemirror_mode": {
        "name": "ipython",
        "version": 3
      },
      "file_extension": ".py",
      "mimetype": "text/x-python",
      "name": "python",
      "nbconvert_exporter": "python",
      "pygments_lexer": "ipython3",
      "version": "3.10.9"
    }
  },
  "nbformat": 4,
  "nbformat_minor": 0
}
