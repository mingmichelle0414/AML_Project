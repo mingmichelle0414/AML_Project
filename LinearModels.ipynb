{
 "cells": [
  {
   "cell_type": "code",
   "execution_count": 1,
   "metadata": {},
   "outputs": [],
   "source": [
    "from sklearn import linear_model\n",
    "from sklearn.linear_model import HuberRegressor\n",
    "from sklearn.metrics import r2_score\n",
    "from sklearn.metrics import mean_squared_error\n",
    "\n",
    "import pandas as pd\n",
    "import numpy as np"
   ]
  },
  {
   "cell_type": "code",
   "execution_count": 2,
   "metadata": {},
   "outputs": [],
   "source": [
    "train = pd.read_csv('train_dataset.csv')\n",
    "train_top = pd.read_csv('train_dataset_top.csv')\n",
    "train_bottom = pd.read_csv('train_dataset_bot.csv')\n",
    "\n",
    "test = pd.read_csv('test_dataset.csv')\n",
    "test_top = pd.read_csv('test_dataset_top.csv')\n",
    "test_bottom = pd.read_csv('test_dataset_bot.csv')\n",
    "\n",
    "val= pd.read_csv('val_dataset.csv')\n",
    "val_top = pd.read_csv('val_dataset_top.csv')\n",
    "val_bottom = pd.read_csv('val_dataset_bot.csv')"
   ]
  },
  {
   "cell_type": "code",
   "execution_count": 3,
   "metadata": {},
   "outputs": [],
   "source": [
    "test.drop(test.columns[0], axis=1, inplace=True)\n",
    "test.dropna(inplace=True)\n",
    "\n",
    "train.drop(train.columns[0], axis=1, inplace=True)\n",
    "train.dropna(inplace=True)\n",
    "\n",
    "val.drop(val.columns[0], axis=1, inplace=True)\n",
    "val.dropna(inplace=True)\n",
    "\n",
    "test_top.drop(test_top.columns[0], axis=1, inplace=True)\n",
    "test_top.dropna(inplace=True)\n",
    "\n",
    "train_top.drop(train_top.columns[0], axis=1, inplace=True)\n",
    "train_top.dropna(inplace=True)\n",
    "\n",
    "val_top.drop(val_top.columns[0], axis=1, inplace=True)\n",
    "val_top.dropna(inplace=True)\n",
    "\n",
    "test_bottom.drop(test_bottom.columns[0], axis=1, inplace=True)\n",
    "test_bottom.dropna(inplace=True)\n",
    "\n",
    "train_bottom.drop(train_bottom.columns[0], axis=1, inplace=True)\n",
    "train_bottom.dropna(inplace=True)\n",
    "\n",
    "val_bottom.drop(val_bottom.columns[0], axis=1, inplace=True)\n",
    "val_bottom.dropna(inplace=True)"
   ]
  },
  {
   "cell_type": "markdown",
   "metadata": {},
   "source": [
    "Out of Sample R-Squared"
   ]
  },
  {
   "cell_type": "code",
   "execution_count": 4,
   "metadata": {},
   "outputs": [],
   "source": [
    "def R_oss(true,pred):\n",
    "    true = np.array(true)\n",
    "    pred = np.array(pred)\n",
    "    numer = np.dot((true-pred),(true-pred))\n",
    "    denom = np.dot(true,true)\n",
    "    frac = numer/denom\n",
    "    return 1-frac"
   ]
  },
  {
   "cell_type": "markdown",
   "metadata": {},
   "source": [
    "Linear Model using OLS and MSE as loss function"
   ]
  },
  {
   "cell_type": "code",
   "execution_count": 5,
   "metadata": {},
   "outputs": [
    {
     "name": "stdout",
     "output_type": "stream",
     "text": [
      "In sample R2 value for complete dataset is: -0.518376168525575\n",
      "\n",
      "Out of sample R2 value for complete dataset is: -0.5137208520749783\n",
      "\n",
      "In sample R2 value for bottom performers of dataset is: -5.907567952931123\n",
      "\n",
      "Out of sample R2 value for bottom performers of dataset is: -5.887329848358863\n",
      "\n",
      "In sample R2 value for top performers of dataset is: -2.191340991685312\n",
      "\n",
      "Out of sample R2 value for top performers of dataset is: -2.1504202290179615\n",
      "\n"
     ]
    }
   ],
   "source": [
    "Xtrain = [train.drop(columns=['DATE','permno','RET']).values,train_bottom.drop(columns=['DATE','permno','RET']).values,train_top.drop(columns=['DATE','permno','RET']).values]\n",
    "Ytrain = [train['RET'].values,train_bottom['RET'].values,train_top['RET'].values]\n",
    "\n",
    "Xtest = [test.drop(columns=['DATE','permno','RET']).values,test_bottom.drop(columns=['DATE','permno','RET']).values,test_top.drop(columns=['DATE','permno','RET']).values]\n",
    "Ytrue = [test['RET'].values,test_bottom['RET'].values,test_top['RET'].values]\n",
    "i = 0\n",
    "while i<3:\n",
    "    model = linear_model.LinearRegression()\n",
    "    model.fit(X=Xtrain[i],y=Ytrain[i])\n",
    "    pred = model.predict(X=Xtest[i])\n",
    "    R2 = r2_score(y_true=Ytrue[i],y_pred=pred)\n",
    "    R2_OOS = R_oss(true=Ytrue[i],pred=pred)\n",
    "    if i == 0:\n",
    "        print(f'In sample R2 value for complete dataset is: {R2}\\n')\n",
    "        print(f'Out of sample R2 value for complete dataset is: {R2_OOS}\\n')\n",
    "    if i == 1:\n",
    "        print(f'In sample R2 value for bottom performers of dataset is: {R2}\\n')\n",
    "        print(f'Out of sample R2 value for bottom performers of dataset is: {R2_OOS}\\n')\n",
    "    if i == 2:\n",
    "        print(f'In sample R2 value for top performers of dataset is: {R2}\\n')\n",
    "        print(f'Out of sample R2 value for top performers of dataset is: {R2_OOS}\\n')\n",
    "    i+=1\n"
   ]
  },
  {
   "cell_type": "markdown",
   "metadata": {},
   "source": [
    "Linear Model using OLS and MSE as loss function. Limiting training dataset to size, book-to-market, and momentum features"
   ]
  },
  {
   "cell_type": "code",
   "execution_count": 6,
   "metadata": {},
   "outputs": [
    {
     "name": "stdout",
     "output_type": "stream",
     "text": [
      "In sample R2 value for complete dataset is: -0.001303388414232609\n",
      "\n",
      "Out of sample R2 value for complete dataset is: 0.0017665913659755672\n",
      "\n",
      "In sample R2 value for bottom performers of dataset is: 0.00025511891228668926\n",
      "\n",
      "Out of sample R2 value for bottom performers of dataset is: 0.0031842166188748022\n",
      "\n",
      "In sample R2 value for top performers of dataset is: -0.0017548775387934423\n",
      "\n",
      "Out of sample R2 value for top performers of dataset is: 0.011090059339286418\n",
      "\n"
     ]
    }
   ],
   "source": [
    "Xtrain = [train[['mvel1','bm','mom1m','mom6m','mom12m','mom36m']].values,train_bottom[['mvel1','bm','mom1m','mom6m','mom12m','mom36m']].values,train_top[['mvel1','bm','mom1m','mom6m','mom12m','mom36m']].values]\n",
    "Ytrain = [train['RET'].values,train_bottom['RET'].values,train_top['RET'].values]\n",
    "\n",
    "Xtest = [test[['mvel1','bm','mom1m','mom6m','mom12m','mom36m']].values,test_bottom[['mvel1','bm','mom1m','mom6m','mom12m','mom36m']].values,test_top[['mvel1','bm','mom1m','mom6m','mom12m','mom36m']].values]\n",
    "Ytrue = [test['RET'].values,test_bottom['RET'].values,test_top['RET'].values]\n",
    "i = 0\n",
    "while i<3:\n",
    "    model = linear_model.LinearRegression()\n",
    "    model.fit(X=Xtrain[i],y=Ytrain[i])\n",
    "    pred = model.predict(X=Xtest[i])\n",
    "    R2 = r2_score(y_true=Ytrue[i],y_pred=pred)\n",
    "    R2_OOS = R_oss(true=Ytrue[i],pred=pred)\n",
    "    if i == 0:\n",
    "        print(f'In sample R2 value for complete dataset is: {R2}\\n')\n",
    "        print(f'Out of sample R2 value for complete dataset is: {R2_OOS}\\n')\n",
    "    if i == 1:\n",
    "        print(f'In sample R2 value for bottom performers of dataset is: {R2}\\n')\n",
    "        print(f'Out of sample R2 value for bottom performers of dataset is: {R2_OOS}\\n')\n",
    "    if i == 2:\n",
    "        print(f'In sample R2 value for top performers of dataset is: {R2}\\n')\n",
    "        print(f'Out of sample R2 value for top performers of dataset is: {R2_OOS}\\n')\n",
    "    i+=1"
   ]
  },
  {
   "cell_type": "markdown",
   "metadata": {},
   "source": [
    "Linear model using OLS and Huber as loss function"
   ]
  },
  {
   "cell_type": "code",
   "execution_count": 7,
   "metadata": {},
   "outputs": [
    {
     "name": "stderr",
     "output_type": "stream",
     "text": [
      "/Users/patrickcamp/anaconda3/lib/python3.11/site-packages/sklearn/linear_model/_huber.py:342: ConvergenceWarning: lbfgs failed to converge (status=1):\n",
      "STOP: TOTAL NO. of ITERATIONS REACHED LIMIT.\n",
      "\n",
      "Increase the number of iterations (max_iter) or scale the data as shown in:\n",
      "    https://scikit-learn.org/stable/modules/preprocessing.html\n",
      "  self.n_iter_ = _check_optimize_result(\"lbfgs\", opt_res, self.max_iter)\n"
     ]
    },
    {
     "name": "stdout",
     "output_type": "stream",
     "text": [
      "In sample R2 value for complete dataset is: -0.16339418882620182\n",
      "\n",
      "Out of sample R2 value for complete dataset is: -0.15982724130816317\n",
      "\n"
     ]
    },
    {
     "name": "stderr",
     "output_type": "stream",
     "text": [
      "/Users/patrickcamp/anaconda3/lib/python3.11/site-packages/sklearn/linear_model/_huber.py:342: ConvergenceWarning: lbfgs failed to converge (status=1):\n",
      "STOP: TOTAL NO. of ITERATIONS REACHED LIMIT.\n",
      "\n",
      "Increase the number of iterations (max_iter) or scale the data as shown in:\n",
      "    https://scikit-learn.org/stable/modules/preprocessing.html\n",
      "  self.n_iter_ = _check_optimize_result(\"lbfgs\", opt_res, self.max_iter)\n"
     ]
    },
    {
     "name": "stdout",
     "output_type": "stream",
     "text": [
      "In sample R2 value for bottom performers of dataset is: -0.05861694794138783\n",
      "\n",
      "Out of sample R2 value for bottom performers of dataset is: -0.055515364194344885\n",
      "\n",
      "In sample R2 value for top performers of dataset is: -0.45449888059362054\n",
      "\n",
      "Out of sample R2 value for top performers of dataset is: -0.4358486631308771\n",
      "\n"
     ]
    },
    {
     "name": "stderr",
     "output_type": "stream",
     "text": [
      "/Users/patrickcamp/anaconda3/lib/python3.11/site-packages/sklearn/linear_model/_huber.py:342: ConvergenceWarning: lbfgs failed to converge (status=1):\n",
      "STOP: TOTAL NO. of ITERATIONS REACHED LIMIT.\n",
      "\n",
      "Increase the number of iterations (max_iter) or scale the data as shown in:\n",
      "    https://scikit-learn.org/stable/modules/preprocessing.html\n",
      "  self.n_iter_ = _check_optimize_result(\"lbfgs\", opt_res, self.max_iter)\n"
     ]
    }
   ],
   "source": [
    "from sklearn.linear_model import HuberRegressor\n",
    "\n",
    "Xtrain = [train.drop(columns=['DATE','permno','RET']).values,train_bottom.drop(columns=['DATE','permno','RET']).values,train_top.drop(columns=['DATE','permno','RET']).values]\n",
    "Ytrain = [train['RET'].values,train_bottom['RET'].values,train_top['RET'].values]\n",
    "\n",
    "Xtest = [test.drop(columns=['DATE','permno','RET']).values,test_bottom.drop(columns=['DATE','permno','RET']).values,test_top.drop(columns=['DATE','permno','RET']).values]\n",
    "Ytrue = [test['RET'].values,test_bottom['RET'].values,test_top['RET'].values]\n",
    "i = 0\n",
    "while i<3:\n",
    "    model = linear_model.LinearRegression()\n",
    "    model.fit(X=Xtrain[i],y=Ytrain[i])\n",
    "    pred = model.predict(X=Xtrain[i])\n",
    "    epsilon=np.max((np.percentile(np.abs(Ytrain[i]-pred),99.9),1))\n",
    "    model1 = linear_model.HuberRegressor(epsilon=epsilon)\n",
    "    model1.fit(X=Xtrain[i],y=Ytrain[i])\n",
    "    pred1 = model1.predict(X=Xtest[i])\n",
    "    R2 = r2_score(y_true=Ytrue[i],y_pred=pred1)\n",
    "    R2_OOS = R_oss(true=Ytrue[i],pred=pred1)\n",
    "    if i == 0:\n",
    "        print(f'In sample R2 value for complete dataset is: {R2}\\n')\n",
    "        print(f'Out of sample R2 value for complete dataset is: {R2_OOS}\\n')\n",
    "    if i == 1:\n",
    "        print(f'In sample R2 value for bottom performers of dataset is: {R2}\\n')\n",
    "        print(f'Out of sample R2 value for bottom performers of dataset is: {R2_OOS}\\n')\n",
    "    if i == 2:\n",
    "        print(f'In sample R2 value for top performers of dataset is: {R2}\\n')\n",
    "        print(f'Out of sample R2 value for top performers of dataset is: {R2_OOS}\\n')\n",
    "    i+=1"
   ]
  },
  {
   "cell_type": "markdown",
   "metadata": {},
   "source": [
    "Linear model using OLS and Huber as loss function. Limiting Xtrain datasets to size, book-to-market, and momentum features"
   ]
  },
  {
   "cell_type": "code",
   "execution_count": 9,
   "metadata": {},
   "outputs": [
    {
     "name": "stdout",
     "output_type": "stream",
     "text": [
      "Epsilon: 1.0576911130990945\n",
      "In sample R2 value for complete dataset is: -0.0024148641934202963\n",
      "\n",
      "Out of sample R2 value for complete dataset is: 0.0006585233533125123\n",
      "\n",
      "Epsilon: 1.9093812923739626\n",
      "In sample R2 value for bottom performers of dataset is: -0.006383516118939614\n",
      "\n",
      "Out of sample R2 value for bottom performers of dataset is: -0.003434968239599323\n",
      "\n",
      "Epsilon: 1.0\n",
      "In sample R2 value for top performers of dataset is: -0.0024828921845239105\n",
      "\n",
      "Out of sample R2 value for top performers of dataset is: 0.010371379614083964\n",
      "\n"
     ]
    }
   ],
   "source": [
    "Xtrain = [train[['mvel1','bm','mom1m','mom6m','mom12m','mom36m']].values,train_bottom[['mvel1','bm','mom1m','mom6m','mom12m','mom36m']].values,train_top[['mvel1','bm','mom1m','mom6m','mom12m','mom36m']].values]\n",
    "Ytrain = [train['RET'].values,train_bottom['RET'].values,train_top['RET'].values]\n",
    "\n",
    "Xtest = [test[['mvel1','bm','mom1m','mom6m','mom12m','mom36m']].values,test_bottom[['mvel1','bm','mom1m','mom6m','mom12m','mom36m']].values,test_top[['mvel1','bm','mom1m','mom6m','mom12m','mom36m']].values]\n",
    "Ytrue = [test['RET'].values,test_bottom['RET'].values,test_top['RET'].values]\n",
    "i = 0\n",
    "while i<3:\n",
    "    model = linear_model.LinearRegression()\n",
    "    model.fit(X=Xtrain[i],y=Ytrain[i])\n",
    "    pred = model.predict(X=Xtrain[i])\n",
    "    epsilon=np.max((np.percentile(np.abs(Ytrain[i]-pred),99.9),1))\n",
    "    print(f'Epsilon: {epsilon}')\n",
    "    model1 = linear_model.HuberRegressor(epsilon=epsilon)\n",
    "    model1.fit(X=Xtrain[i],y=Ytrain[i])\n",
    "    pred1 = model1.predict(X=Xtest[i])\n",
    "    R2 = r2_score(y_true=Ytrue[i],y_pred=pred1)\n",
    "    R2_OOS = R_oss(true=Ytrue[i],pred=pred1)\n",
    "    if i == 0:\n",
    "        print(f'In sample R2 value for complete dataset is: {R2}\\n')\n",
    "        print(f'Out of sample R2 value for complete dataset is: {R2_OOS}\\n')\n",
    "    if i == 1:\n",
    "        print(f'In sample R2 value for bottom performers of dataset is: {R2}\\n')\n",
    "        print(f'Out of sample R2 value for bottom performers of dataset is: {R2_OOS}\\n')\n",
    "    if i == 2:\n",
    "        print(f'In sample R2 value for top performers of dataset is: {R2}\\n')\n",
    "        print(f'Out of sample R2 value for top performers of dataset is: {R2_OOS}\\n')\n",
    "    i+=1"
   ]
  }
 ],
 "metadata": {
  "kernelspec": {
   "display_name": "base",
   "language": "python",
   "name": "python3"
  },
  "language_info": {
   "codemirror_mode": {
    "name": "ipython",
    "version": 3
   },
   "file_extension": ".py",
   "mimetype": "text/x-python",
   "name": "python",
   "nbconvert_exporter": "python",
   "pygments_lexer": "ipython3",
   "version": "3.11.4"
  },
  "orig_nbformat": 4
 },
 "nbformat": 4,
 "nbformat_minor": 2
}
